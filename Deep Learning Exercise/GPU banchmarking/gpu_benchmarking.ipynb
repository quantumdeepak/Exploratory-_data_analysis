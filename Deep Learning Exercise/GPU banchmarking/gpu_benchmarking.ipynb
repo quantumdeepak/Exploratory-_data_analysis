{
  "cells": [
    {
      "cell_type": "code",
      "execution_count": 1,
      "metadata": {},
      "outputs": [],
      "source": [
        "# pip install -r /config/workspace/requirements.txt"
      ]
    },
    {
      "cell_type": "code",
      "execution_count": 1,
      "metadata": {
        "id": "CXlq-8IMMRJa"
      },
      "outputs": [],
      "source": [
        "import tensorflow as tf\n",
        "from tensorflow import  keras\n",
        "import matplotlib.pyplot as plt\n",
        "import numpy as np"
      ]
    },
    {
      "cell_type": "code",
      "execution_count": 2,
      "metadata": {
        "id": "I434QJxoMRJa"
      },
      "outputs": [],
      "source": [
        "## testing the configeration of the system"
      ]
    },
    {
      "cell_type": "code",
      "execution_count": 3,
      "metadata": {
        "colab": {
          "base_uri": "https://localhost:8080/"
        },
        "id": "jugezjMzMRJa",
        "outputId": "32ff8296-efaa-4fe6-ad85-4317feb46184"
      },
      "outputs": [
        {
          "data": {
            "text/plain": [
              "[LogicalDevice(name='/device:CPU:0', device_type='CPU'),\n",
              " LogicalDevice(name='/device:GPU:0', device_type='GPU')]"
            ]
          },
          "execution_count": 3,
          "metadata": {},
          "output_type": "execute_result"
        }
      ],
      "source": [
        "tf.config.experimental.list_logical_devices()"
      ]
    },
    {
      "cell_type": "code",
      "execution_count": 4,
      "metadata": {
        "colab": {
          "base_uri": "https://localhost:8080/"
        },
        "id": "rsU8H9ElMRJa",
        "outputId": "69940cde-ced6-4208-f5c0-88ffd1ff1c71"
      },
      "outputs": [
        {
          "data": {
            "text/plain": [
              "[PhysicalDevice(name='/physical_device:CPU:0', device_type='CPU'),\n",
              " PhysicalDevice(name='/physical_device:GPU:0', device_type='GPU')]"
            ]
          },
          "execution_count": 4,
          "metadata": {},
          "output_type": "execute_result"
        }
      ],
      "source": [
        "tf.config.experimental.list_physical_devices()"
      ]
    },
    {
      "cell_type": "code",
      "execution_count": 5,
      "metadata": {
        "colab": {
          "base_uri": "https://localhost:8080/",
          "height": 35
        },
        "id": "oR6RZnK-MRJb",
        "outputId": "17aa2b74-9234-45c7-a8a4-7b7388b914f9"
      },
      "outputs": [
        {
          "data": {
            "application/vnd.google.colaboratory.intrinsic+json": {
              "type": "string"
            },
            "text/plain": [
              "'2.14.0'"
            ]
          },
          "execution_count": 5,
          "metadata": {},
          "output_type": "execute_result"
        }
      ],
      "source": [
        "tf.__version__"
      ]
    },
    {
      "cell_type": "code",
      "execution_count": 6,
      "metadata": {
        "colab": {
          "base_uri": "https://localhost:8080/"
        },
        "id": "wEe3mYr-MRJb",
        "outputId": "68c071f1-0256-46dd-b095-2631961e77a5"
      },
      "outputs": [
        {
          "data": {
            "text/plain": [
              "True"
            ]
          },
          "execution_count": 6,
          "metadata": {},
          "output_type": "execute_result"
        }
      ],
      "source": [
        "tf.test.is_built_with_cuda()"
      ]
    },
    {
      "cell_type": "code",
      "execution_count": 7,
      "metadata": {
        "id": "9J46T-iyMRJb"
      },
      "outputs": [],
      "source": [
        "## Loading the dataset"
      ]
    },
    {
      "cell_type": "code",
      "execution_count": 8,
      "metadata": {
        "colab": {
          "base_uri": "https://localhost:8080/"
        },
        "id": "QNDL4QxpMRJb",
        "outputId": "4d9ed06e-0960-4ce1-e0fb-a788d08b0289"
      },
      "outputs": [
        {
          "name": "stdout",
          "output_type": "stream",
          "text": [
            "Downloading data from https://www.cs.toronto.edu/~kriz/cifar-10-python.tar.gz\n",
            "170498071/170498071 [==============================] - 6s 0us/step\n"
          ]
        }
      ],
      "source": [
        "data_1=tf.keras.datasets.cifar10.load_data()"
      ]
    },
    {
      "cell_type": "code",
      "execution_count": 9,
      "metadata": {
        "colab": {
          "base_uri": "https://localhost:8080/"
        },
        "id": "gJmR493xMRJc",
        "outputId": "0318fb90-8d34-4604-d694-7b9dcf9fc541"
      },
      "outputs": [
        {
          "name": "stdout",
          "output_type": "stream",
          "text": [
            "Downloading data from https://www.cs.toronto.edu/~kriz/cifar-100-python.tar.gz\n",
            "169001437/169001437 [==============================] - 8s 0us/step\n"
          ]
        }
      ],
      "source": [
        "data_2=tf.keras.datasets.cifar100.load_data()"
      ]
    },
    {
      "cell_type": "code",
      "execution_count": 10,
      "metadata": {
        "colab": {
          "base_uri": "https://localhost:8080/"
        },
        "id": "5VuNNxo1MRJc",
        "outputId": "beae4d69-0bc4-4e0e-ff04-e602e78e090d"
      },
      "outputs": [
        {
          "data": {
            "text/plain": [
              "(tuple, tuple, numpy.ndarray)"
            ]
          },
          "execution_count": 10,
          "metadata": {},
          "output_type": "execute_result"
        }
      ],
      "source": [
        "type(data_1),type(data_1[0]),type(data_1[0][0])"
      ]
    },
    {
      "cell_type": "code",
      "execution_count": 11,
      "metadata": {
        "id": "ax9Fsw61MRJc"
      },
      "outputs": [],
      "source": [
        "(x_train,y_train),(x_test,y_test)=data_1"
      ]
    },
    {
      "cell_type": "code",
      "execution_count": 12,
      "metadata": {
        "colab": {
          "base_uri": "https://localhost:8080/"
        },
        "id": "klPj3XQDMRJc",
        "outputId": "0dd83dbb-80a8-4c5e-81f1-4b144d2c1066"
      },
      "outputs": [
        {
          "data": {
            "text/plain": [
              "((50000, 32, 32, 3), (50000, 1))"
            ]
          },
          "execution_count": 12,
          "metadata": {},
          "output_type": "execute_result"
        }
      ],
      "source": [
        "x_train.shape,y_train.shape"
      ]
    },
    {
      "cell_type": "code",
      "execution_count": 13,
      "metadata": {
        "id": "1x8WQWApMRJc"
      },
      "outputs": [],
      "source": [
        "## Data visualization\n",
        "## Defining the function for diaplaying the image\n",
        "def plot_image(index):\n",
        "    plt.figure(figsize=(10,1))\n",
        "    plt.imshow(x_train[index])"
      ]
    },
    {
      "cell_type": "code",
      "execution_count": 14,
      "metadata": {
        "colab": {
          "base_uri": "https://localhost:8080/",
          "height": 284
        },
        "id": "0Ohr5_v3MRJc",
        "outputId": "c5daa298-9d85-44ec-99ad-a6c4775f1d6d"
      },
      "outputs": [
        {
          "data": {
            "text/plain": [
              "(None, None)"
            ]
          },
          "execution_count": 14,
          "metadata": {},
          "output_type": "execute_result"
        },
        {
          "data": {
            "image/png": "[encoded data removed]",
            "text/plain": [
              "<Figure size 1000x100 with 1 Axes>"
            ]
          },
          "metadata": {},
          "output_type": "display_data"
        },
        {
          "data": {
            "image/png": "[encoded data removed]",
            "text/plain": [
              "<Figure size 1000x100 with 1 Axes>"
            ]
          },
          "metadata": {},
          "output_type": "display_data"
        }
      ],
      "source": [
        "plot_image(0),plot_image(1)"
      ]
    },
    {
      "cell_type": "code",
      "execution_count": 15,
      "metadata": {
        "id": "QcHSNyHJMRJd"
      },
      "outputs": [],
      "source": [
        "classes = [\"airplane\",\"automobile\",\"bird\",\"cat\",\"deer\",\"dog\",\"frog\",\"horse\",\"ship\",\"truck\"]"
      ]
    },
    {
      "cell_type": "code",
      "execution_count": 16,
      "metadata": {
        "colab": {
          "base_uri": "https://localhost:8080/"
        },
        "id": "noFKah-3MRJd",
        "outputId": "58bddef1-c589-433d-a48e-80cfd8696bd3"
      },
      "outputs": [
        {
          "data": {
            "text/plain": [
              "(1, numpy.ndarray, numpy.uint8, 6)"
            ]
          },
          "execution_count": 16,
          "metadata": {},
          "output_type": "execute_result"
        }
      ],
      "source": [
        "len(y_train[0]),type(y_train[0]),type(y_train[0][0]),y_train[0][0]"
      ]
    },
    {
      "cell_type": "code",
      "execution_count": 17,
      "metadata": {
        "colab": {
          "base_uri": "https://localhost:8080/",
          "height": 35
        },
        "id": "TNvcWijfMRJd",
        "outputId": "9ffc2641-384c-4fc9-a451-e7222a8302ac"
      },
      "outputs": [
        {
          "data": {
            "application/vnd.google.colaboratory.intrinsic+json": {
              "type": "string"
            },
            "text/plain": [
              "'frog'"
            ]
          },
          "execution_count": 17,
          "metadata": {},
          "output_type": "execute_result"
        }
      ],
      "source": [
        "classes[y_train[0][0]]"
      ]
    },
    {
      "cell_type": "code",
      "execution_count": 18,
      "metadata": {
        "colab": {
          "base_uri": "https://localhost:8080/"
        },
        "id": "EGAmnKK1MRJd",
        "outputId": "2e086a2f-51d8-44d6-92ec-174a89e97560"
      },
      "outputs": [
        {
          "data": {
            "text/plain": [
              "(array([[6],\n",
              "        [9],\n",
              "        [9],\n",
              "        [4],\n",
              "        [1]], dtype=uint8),\n",
              " (5, 1),\n",
              " numpy.ndarray)"
            ]
          },
          "execution_count": 18,
          "metadata": {},
          "output_type": "execute_result"
        }
      ],
      "source": [
        "y_train[:5],y_test[:5].shape,type(y_test[:5])"
      ]
    },
    {
      "cell_type": "code",
      "execution_count": 19,
      "metadata": {
        "colab": {
          "base_uri": "https://localhost:8080/"
        },
        "id": "R0Sj_sOiMRJd",
        "outputId": "2808642e-05ea-437e-a5f6-43e2cea51463"
      },
      "outputs": [
        {
          "data": {
            "text/plain": [
              "((10000, 1), (10000, 32, 32, 3))"
            ]
          },
          "execution_count": 19,
          "metadata": {},
          "output_type": "execute_result"
        }
      ],
      "source": [
        "y_test.shape,x_test.shape"
      ]
    },
    {
      "cell_type": "code",
      "execution_count": 20,
      "metadata": {
        "colab": {
          "base_uri": "https://localhost:8080/"
        },
        "id": "nTHi_eJVMRJd",
        "outputId": "f1021d73-d1fa-4363-e8d1-0342046a3705"
      },
      "outputs": [
        {
          "data": {
            "text/plain": [
              "array([0, 1, 2, 3, 4, 5, 6, 7, 8, 9], dtype=uint8)"
            ]
          },
          "execution_count": 20,
          "metadata": {},
          "output_type": "execute_result"
        }
      ],
      "source": [
        "np.unique(y_test)"
      ]
    },
    {
      "cell_type": "code",
      "execution_count": 21,
      "metadata": {
        "colab": {
          "base_uri": "https://localhost:8080/"
        },
        "id": "3hkiKx8DMRJd",
        "outputId": "aca8e941-561b-4bcf-9376-deb10421eddc"
      },
      "outputs": [
        {
          "data": {
            "text/plain": [
              "(255, 0)"
            ]
          },
          "execution_count": 21,
          "metadata": {},
          "output_type": "execute_result"
        }
      ],
      "source": [
        "np.max(x_test),np.min(x_test)"
      ]
    },
    {
      "cell_type": "code",
      "execution_count": 22,
      "metadata": {
        "id": "sWyAtiRvMRJe"
      },
      "outputs": [],
      "source": [
        "## PREPROCESSING : scales the images\n",
        "x_train_scaled=x_train/255\n",
        "x_test_scaled=x_test/255"
      ]
    },
    {
      "cell_type": "code",
      "execution_count": 23,
      "metadata": {
        "id": "DJXSsXSsMRJe"
      },
      "outputs": [],
      "source": [
        "## Encoding the attributes to one hot encoding scheme\n",
        "# we need to just encode the output lables\n",
        "y_train_cat = keras.utils.to_categorical(\n",
        "    y_train,num_classes=10,dtype='float32'\n",
        ")\n",
        "\n",
        "y_test_cat=keras.utils.to_categorical(\n",
        "    y_test,num_classes=10,dtype='float32'\n",
        ")"
      ]
    },
    {
      "cell_type": "code",
      "execution_count": 24,
      "metadata": {
        "colab": {
          "base_uri": "https://localhost:8080/"
        },
        "id": "t0cmVMrQMRJe",
        "outputId": "2ae5ee13-a197-4785-c7d0-18806dc39f59"
      },
      "outputs": [
        {
          "data": {
            "text/plain": [
              "array([[6],\n",
              "       [9],\n",
              "       [9],\n",
              "       [4],\n",
              "       [1]], dtype=uint8)"
            ]
          },
          "execution_count": 24,
          "metadata": {},
          "output_type": "execute_result"
        }
      ],
      "source": [
        "y_train[:5]"
      ]
    },
    {
      "cell_type": "code",
      "execution_count": 25,
      "metadata": {
        "colab": {
          "base_uri": "https://localhost:8080/"
        },
        "id": "TZ_tpADnMRJe",
        "outputId": "38915fc5-a3b7-4a4d-eb17-b2c79ef4772c"
      },
      "outputs": [
        {
          "data": {
            "text/plain": [
              "array([[0., 0., 0., 0., 0., 0., 1., 0., 0., 0.],\n",
              "       [0., 0., 0., 0., 0., 0., 0., 0., 0., 1.],\n",
              "       [0., 0., 0., 0., 0., 0., 0., 0., 0., 1.],\n",
              "       [0., 0., 0., 0., 1., 0., 0., 0., 0., 0.],\n",
              "       [0., 1., 0., 0., 0., 0., 0., 0., 0., 0.]], dtype=float32)"
            ]
          },
          "execution_count": 25,
          "metadata": {},
          "output_type": "execute_result"
        }
      ],
      "source": [
        "y_train_cat[:5]"
      ]
    },
    {
      "cell_type": "code",
      "execution_count": 26,
      "metadata": {
        "colab": {
          "base_uri": "https://localhost:8080/"
        },
        "id": "9B2z_TwDMRJe",
        "outputId": "a3e3594c-df14-465a-f5aa-a9adff6f010d"
      },
      "outputs": [
        {
          "name": "stdout",
          "output_type": "stream",
          "text": [
            "1563/1563 [==============================] - 13s 5ms/step - loss: 1.8154 - accuracy: 0.3537\n"
          ]
        },
        {
          "data": {
            "text/plain": [
              "<keras.src.callbacks.History at 0x7c07a02e9f90>"
            ]
          },
          "execution_count": 26,
          "metadata": {},
          "output_type": "execute_result"
        }
      ],
      "source": [
        "## Building the model and traning the model\n",
        "model=keras.Sequential([\n",
        "    keras.layers.Flatten(input_shape=(32,32,3)),\n",
        "    keras.layers.Dense(3000,activation='relu'),\n",
        "    keras.layers.Dense(1000,activation='relu'),\n",
        "    keras.layers.Dense(10,activation='sigmoid')\n",
        "])\n",
        "\n",
        "model.compile(\n",
        "    optimizer='SGD',\n",
        "    loss='categorical_crossentropy',\n",
        "    metrics=['accuracy']\n",
        ")\n",
        "\n",
        "model.fit(x_train_scaled,y_train_cat,epochs=1)"
      ]
    },
    {
      "cell_type": "code",
      "execution_count": 27,
      "metadata": {
        "colab": {
          "base_uri": "https://localhost:8080/"
        },
        "id": "QxRQZmhxQcqs",
        "outputId": "0754e821-3beb-4912-f27e-8849afd2e427"
      },
      "outputs": [
        {
          "name": "stdout",
          "output_type": "stream",
          "text": [
            "313/313 [==============================] - 1s 2ms/step\n"
          ]
        },
        {
          "data": {
            "text/plain": [
              "array([0.39227536, 0.5281331 , 0.6293205 , 0.7505252 , 0.5412495 ,\n",
              "       0.6769048 , 0.53507864, 0.19790119, 0.4839984 , 0.14343128],\n",
              "      dtype=float32)"
            ]
          },
          "execution_count": 27,
          "metadata": {},
          "output_type": "execute_result"
        }
      ],
      "source": [
        "model.predict(x_test_scaled)[0]"
      ]
    },
    {
      "cell_type": "code",
      "execution_count": 28,
      "metadata": {
        "colab": {
          "base_uri": "https://localhost:8080/"
        },
        "id": "42OI1uiwMRJe",
        "outputId": "a667758e-e77d-4816-9ad8-a09d89dea88e"
      },
      "outputs": [
        {
          "name": "stdout",
          "output_type": "stream",
          "text": [
            "313/313 [==============================] - 1s 3ms/step\n"
          ]
        },
        {
          "data": {
            "text/plain": [
              "3"
            ]
          },
          "execution_count": 28,
          "metadata": {},
          "output_type": "execute_result"
        }
      ],
      "source": [
        "## making the prediction\n",
        "np.argmax(model.predict(x_test_scaled)[0])"
      ]
    },
    {
      "cell_type": "code",
      "execution_count": 29,
      "metadata": {
        "colab": {
          "base_uri": "https://localhost:8080/"
        },
        "id": "pqsEJ8QHRP3d",
        "outputId": "6d9e54ea-e533-4e11-95a2-e75a13cc014c"
      },
      "outputs": [
        {
          "name": "stdout",
          "output_type": "stream",
          "text": [
            "313/313 [==============================] - 1s 3ms/step\n"
          ]
        },
        {
          "data": {
            "text/plain": [
              "10000"
            ]
          },
          "execution_count": 29,
          "metadata": {},
          "output_type": "execute_result"
        }
      ],
      "source": [
        "len(model.predict(x_test_scaled))"
      ]
    },
    {
      "cell_type": "code",
      "execution_count": 30,
      "metadata": {
        "colab": {
          "base_uri": "https://localhost:8080/"
        },
        "id": "Um7zVVxoQnU5",
        "outputId": "8a9c3747-8930-4797-eeac-75a5e4d4ff1a"
      },
      "outputs": [
        {
          "name": "stdout",
          "output_type": "stream",
          "text": [
            "313/313 [==============================] - 1s 3ms/step\n"
          ]
        },
        {
          "data": {
            "text/plain": [
              "(10000, 10)"
            ]
          },
          "execution_count": 30,
          "metadata": {},
          "output_type": "execute_result"
        }
      ],
      "source": [
        "model.predict(x_test_scaled).shape"
      ]
    },
    {
      "cell_type": "code",
      "execution_count": 31,
      "metadata": {
        "colab": {
          "base_uri": "https://localhost:8080/"
        },
        "id": "17Ix-xSjRhgw",
        "outputId": "fdd4fde1-42b6-44f2-c9ff-1eacbfbfed08"
      },
      "outputs": [
        {
          "data": {
            "text/plain": [
              "(10000, 32, 32, 3)"
            ]
          },
          "execution_count": 31,
          "metadata": {},
          "output_type": "execute_result"
        }
      ],
      "source": [
        "## we are making the predictions for all the 10000 test data sets\n",
        "## to know the predictions for the ith data point model.predict(x_test_scaled)[i]\n",
        "\n",
        "x_test_scaled.shape"
      ]
    },
    {
      "cell_type": "code",
      "execution_count": 32,
      "metadata": {
        "colab": {
          "base_uri": "https://localhost:8080/"
        },
        "id": "eekfPqdeUup5",
        "outputId": "bad9ff2b-06b3-4476-dcc5-8082e219df71"
      },
      "outputs": [
        {
          "data": {
            "text/plain": [
              "3"
            ]
          },
          "execution_count": 32,
          "metadata": {},
          "output_type": "execute_result"
        }
      ],
      "source": [
        "y_test[0][0]"
      ]
    },
    {
      "cell_type": "code",
      "execution_count": 33,
      "metadata": {
        "id": "DAzQYxXwVFFx"
      },
      "outputs": [],
      "source": [
        "## defining a function for creating a model\n",
        "def get_model():\n",
        "    model=keras.Sequential([\n",
        "        keras.layers.Flatten(input_shape=(32,32,3)),\n",
        "        keras.layers.Dense(3000,activation='relu'),\n",
        "        keras.layers.Dense(1000,activation='relu'),\n",
        "        keras.layers.Dense(10,activation='sigmoid')\n",
        "    ])\n",
        "\n",
        "    model.compile(\n",
        "        optimizer='SGD',\n",
        "        loss='categorical_crossentropy',\n",
        "        metrics=['accuracy']\n",
        "    )\n",
        "\n",
        "    return model"
      ]
    },
    {
      "cell_type": "code",
      "execution_count": 34,
      "metadata": {
        "id": "HjbrRzI8cx33"
      },
      "outputs": [],
      "source": [
        "k1=get_model()"
      ]
    },
    {
      "cell_type": "code",
      "execution_count": 35,
      "metadata": {
        "id": "p6oMqeGwa2Qv"
      },
      "outputs": [],
      "source": [
        "## import timeit"
      ]
    },
    {
      "cell_type": "code",
      "execution_count": 36,
      "metadata": {
        "colab": {
          "base_uri": "https://localhost:8080/"
        },
        "id": "5cKkIljxaAyE",
        "outputId": "8c6d3c7a-4f4b-4e9b-c374-d686869145bc"
      },
      "outputs": [
        {
          "name": "stdout",
          "output_type": "stream",
          "text": [
            "1563/1563 [==============================] - 178s 113ms/step - loss: 1.8135 - accuracy: 0.3524\n",
            "1563/1563 [==============================] - 138s 88ms/step - loss: 1.8159 - accuracy: 0.3538\n",
            "1563/1563 [==============================] - 151s 96ms/step - loss: 1.8130 - accuracy: 0.3534\n",
            "1563/1563 [==============================] - 138s 88ms/step - loss: 1.8093 - accuracy: 0.3549\n",
            "1563/1563 [==============================] - 158s 101ms/step - loss: 1.8131 - accuracy: 0.3549\n",
            "1563/1563 [==============================] - 156s 99ms/step - loss: 1.8089 - accuracy: 0.3551\n",
            "1563/1563 [==============================] - 139s 88ms/step - loss: 1.8149 - accuracy: 0.3517\n",
            "1563/1563 [==============================] - 129s 82ms/step - loss: 1.8116 - accuracy: 0.3570\n",
            "2min 49s ± 30.4 s per loop (mean ± std. dev. of 7 runs, 1 loop each)\n"
          ]
        }
      ],
      "source": [
        "%%timeit\n",
        "with tf.device('/CPU:0'):\n",
        "  cpu_model=get_model()\n",
        "  cpu_model.fit(x_train_scaled,y_train_cat,epochs=1)"
      ]
    },
    {
      "cell_type": "code",
      "execution_count": 43,
      "metadata": {
        "colab": {
          "base_uri": "https://localhost:8080/"
        },
        "id": "qMt3WAJpaaw8",
        "outputId": "4e654457-8dc1-4b76-cd22-0d71482ecd4b"
      },
      "outputs": [
        {
          "name": "stdout",
          "output_type": "stream",
          "text": [
            "1563/1563 [==============================] - 119s 76ms/step - loss: 1.8130 - accuracy: 0.3534\n",
            "2min 23s ± 0 ns per loop (mean ± std. dev. of 1 run, 1 loop each)\n"
          ]
        }
      ],
      "source": [
        "## Measuring the running time on the CPU\n",
        "\n",
        "## IF we dont mention these arguments then the cell will execute the code multiple time and will take the average time of the execution of the ode\n",
        "## these argumenst will lemit the execution of code to once\n",
        "%%timeit -n1 -r1\n",
        "with tf.device('/CPU:0'):\n",
        "  cpu_model=get_model()\n",
        "  cpu_model.fit(x_train_scaled,y_train_cat,epochs=1)"
      ]
    },
    {
      "cell_type": "code",
      "execution_count": 44,
      "metadata": {
        "colab": {
          "base_uri": "https://localhost:8080/"
        },
        "id": "k13pmfMoyuBY",
        "outputId": "5f76c2c6-be65-43dc-a600-b744ec8dd2a9"
      },
      "outputs": [
        {
          "name": "stdout",
          "output_type": "stream",
          "text": [
            "1563/1563 [==============================] - 9s 5ms/step - loss: 1.8131 - accuracy: 0.3538\n",
            "12.5 s ± 0 ns per loop (mean ± std. dev. of 1 run, 1 loop each)\n"
          ]
        }
      ],
      "source": [
        "## Measuring the running time on the GPU MACHINE\n",
        "\n",
        "%%timeit -n1 -r1\n",
        "with tf.device('/GPU:0'):\n",
        "  gpu_model=get_model()\n",
        "  gpu_model.fit(x_train_scaled,y_train_cat,epochs=1)"
      ]
    },
    {
      "cell_type": "code",
      "execution_count": 45,
      "metadata": {
        "colab": {
          "base_uri": "https://localhost:8080/"
        },
        "id": "4NBITKyJ1CI5",
        "outputId": "f1dc202f-0f10-4fd9-a877-658423c885c4"
      },
      "outputs": [
        {
          "name": "stdout",
          "output_type": "stream",
          "text": [
            "Epoch 1/25\n",
            "1563/1563 [==============================] - 121s 77ms/step - loss: 1.8139 - accuracy: 0.3547\n",
            "Epoch 2/25\n",
            "1563/1563 [==============================] - 121s 78ms/step - loss: 1.6243 - accuracy: 0.4266\n",
            "Epoch 3/25\n",
            "1563/1563 [==============================] - 120s 77ms/step - loss: 1.5419 - accuracy: 0.4570\n",
            "Epoch 4/25\n",
            "1563/1563 [==============================] - 120s 77ms/step - loss: 1.4843 - accuracy: 0.4770\n",
            "Epoch 5/25\n",
            "1563/1563 [==============================] - 120s 77ms/step - loss: 1.4344 - accuracy: 0.4958\n",
            "Epoch 6/25\n",
            "1563/1563 [==============================] - 121s 77ms/step - loss: 1.3908 - accuracy: 0.5114\n",
            "Epoch 7/25\n",
            "1563/1563 [==============================] - 119s 76ms/step - loss: 1.3534 - accuracy: 0.5228\n",
            "Epoch 8/25\n",
            "1563/1563 [==============================] - 122s 78ms/step - loss: 1.3186 - accuracy: 0.5386\n",
            "Epoch 9/25\n",
            "1563/1563 [==============================] - 121s 77ms/step - loss: 1.2853 - accuracy: 0.5499\n",
            "Epoch 10/25\n",
            "1563/1563 [==============================] - 120s 77ms/step - loss: 1.2534 - accuracy: 0.5605\n",
            "Epoch 11/25\n",
            "1563/1563 [==============================] - 125s 80ms/step - loss: 1.2240 - accuracy: 0.5703\n",
            "Epoch 12/25\n",
            "1563/1563 [==============================] - 121s 77ms/step - loss: 1.1976 - accuracy: 0.5819\n",
            "Epoch 13/25\n",
            "1563/1563 [==============================] - 122s 78ms/step - loss: 1.1681 - accuracy: 0.5917\n",
            "Epoch 14/25\n",
            "1563/1563 [==============================] - 121s 77ms/step - loss: 1.1380 - accuracy: 0.6050\n",
            "Epoch 15/25\n",
            "1563/1563 [==============================] - 120s 77ms/step - loss: 1.1105 - accuracy: 0.6126\n",
            "Epoch 16/25\n",
            "1563/1563 [==============================] - 121s 77ms/step - loss: 1.0863 - accuracy: 0.6189\n",
            "Epoch 17/25\n",
            "1563/1563 [==============================] - 118s 76ms/step - loss: 1.0579 - accuracy: 0.6318\n",
            "Epoch 18/25\n",
            "1563/1563 [==============================] - 117s 75ms/step - loss: 1.0355 - accuracy: 0.6395\n",
            "Epoch 19/25\n",
            "1563/1563 [==============================] - 116s 74ms/step - loss: 1.0061 - accuracy: 0.6509\n",
            "Epoch 20/25\n",
            "1563/1563 [==============================] - 117s 75ms/step - loss: 0.9788 - accuracy: 0.6614\n",
            "Epoch 21/25\n",
            "1563/1563 [==============================] - 118s 75ms/step - loss: 0.9550 - accuracy: 0.6691\n",
            "Epoch 22/25\n",
            "1563/1563 [==============================] - 118s 76ms/step - loss: 0.9293 - accuracy: 0.6793\n",
            "Epoch 23/25\n",
            "1563/1563 [==============================] - 118s 75ms/step - loss: 0.9046 - accuracy: 0.6884\n",
            "Epoch 24/25\n",
            "1563/1563 [==============================] - 118s 76ms/step - loss: 0.8774 - accuracy: 0.6997\n",
            "Epoch 25/25\n",
            "1563/1563 [==============================] - 118s 75ms/step - loss: 0.8536 - accuracy: 0.7071\n",
            "50min 23s ± 0 ns per loop (mean ± std. dev. of 1 run, 1 loop each)\n"
          ]
        }
      ],
      "source": [
        "## running the code for multiple epochs\n",
        "\n",
        "%%timeit -n1 -r1\n",
        "with tf.device('/CPU:0'):\n",
        "  cpu_model=get_model()\n",
        "  cpu_model.fit(x_train_scaled,y_train_cat,epochs=25)"
      ]
    },
    {
      "cell_type": "code",
      "execution_count": 46,
      "metadata": {
        "colab": {
          "base_uri": "https://localhost:8080/"
        },
        "id": "Oq4MlNzm1t0g",
        "outputId": "d5b9a171-8a68-4b1c-f151-dee8eade94cf"
      },
      "outputs": [
        {
          "name": "stdout",
          "output_type": "stream",
          "text": [
            "Epoch 1/25\n",
            "1563/1563 [==============================] - 8s 5ms/step - loss: 1.8114 - accuracy: 0.3544\n",
            "Epoch 2/25\n",
            "1563/1563 [==============================] - 8s 5ms/step - loss: 1.6214 - accuracy: 0.4272\n",
            "Epoch 3/25\n",
            "1563/1563 [==============================] - 8s 5ms/step - loss: 1.5420 - accuracy: 0.4557\n",
            "Epoch 4/25\n",
            "1563/1563 [==============================] - 7s 5ms/step - loss: 1.4808 - accuracy: 0.4795\n",
            "Epoch 5/25\n",
            "1563/1563 [==============================] - 8s 5ms/step - loss: 1.4318 - accuracy: 0.4983\n",
            "Epoch 6/25\n",
            "1563/1563 [==============================] - 8s 5ms/step - loss: 1.3883 - accuracy: 0.5114\n",
            "Epoch 7/25\n",
            "1563/1563 [==============================] - 8s 5ms/step - loss: 1.3515 - accuracy: 0.5263\n",
            "Epoch 8/25\n",
            "1563/1563 [==============================] - 8s 5ms/step - loss: 1.3155 - accuracy: 0.5386\n",
            "Epoch 9/25\n",
            "1563/1563 [==============================] - 8s 5ms/step - loss: 1.2816 - accuracy: 0.5509\n",
            "Epoch 10/25\n",
            "1563/1563 [==============================] - 8s 5ms/step - loss: 1.2532 - accuracy: 0.5599\n",
            "Epoch 11/25\n",
            "1563/1563 [==============================] - 8s 5ms/step - loss: 1.2239 - accuracy: 0.5703\n",
            "Epoch 12/25\n",
            "1563/1563 [==============================] - 8s 5ms/step - loss: 1.1931 - accuracy: 0.5836\n",
            "Epoch 13/25\n",
            "1563/1563 [==============================] - 8s 5ms/step - loss: 1.1693 - accuracy: 0.5909\n",
            "Epoch 14/25\n",
            "1563/1563 [==============================] - 8s 5ms/step - loss: 1.1391 - accuracy: 0.6031\n",
            "Epoch 15/25\n",
            "1563/1563 [==============================] - 8s 5ms/step - loss: 1.1121 - accuracy: 0.6136\n",
            "Epoch 16/25\n",
            "1563/1563 [==============================] - 8s 5ms/step - loss: 1.0870 - accuracy: 0.6205\n",
            "Epoch 17/25\n",
            "1563/1563 [==============================] - 8s 5ms/step - loss: 1.0589 - accuracy: 0.6334\n",
            "Epoch 18/25\n",
            "1563/1563 [==============================] - 7s 5ms/step - loss: 1.0350 - accuracy: 0.6394\n",
            "Epoch 19/25\n",
            "1563/1563 [==============================] - 8s 5ms/step - loss: 1.0090 - accuracy: 0.6493\n",
            "Epoch 20/25\n",
            "1563/1563 [==============================] - 7s 5ms/step - loss: 0.9833 - accuracy: 0.6589\n",
            "Epoch 21/25\n",
            "1563/1563 [==============================] - 8s 5ms/step - loss: 0.9561 - accuracy: 0.6693\n",
            "Epoch 22/25\n",
            "1563/1563 [==============================] - 8s 5ms/step - loss: 0.9330 - accuracy: 0.6774\n",
            "Epoch 23/25\n",
            "1563/1563 [==============================] - 8s 5ms/step - loss: 0.9070 - accuracy: 0.6886\n",
            "Epoch 24/25\n",
            "1563/1563 [==============================] - 8s 5ms/step - loss: 0.8808 - accuracy: 0.6956\n",
            "Epoch 25/25\n",
            "1563/1563 [==============================] - 7s 5ms/step - loss: 0.8559 - accuracy: 0.7045\n",
            "3min 24s ± 0 ns per loop (mean ± std. dev. of 1 run, 1 loop each)\n"
          ]
        }
      ],
      "source": [
        "%%timeit -n1 -r1\n",
        "with tf.device('/GPU:0'):\n",
        "  gpu_model=get_model()\n",
        "  gpu_model.fit(x_train_scaled,y_train_cat,epochs=25)"
      ]
    },
    {
      "cell_type": "markdown",
      "metadata": {
        "id": "EFYRivU82cp8"
      },
      "source": [
        "##### Here is the performance comparison for 1 epoch,"
      ]
    },
    {
      "cell_type": "markdown",
      "metadata": {
        "id": "qYxsnF9b2lFw"
      },
      "source": [
        "| Epoch | CPU | GPU |\n",
        "|-------|-----|-----|\n",
        "|   1   | 2min 23s  | 12.5 s|\n",
        "|  25   |50min 23s |3min 24s |"
      ]
    },
    {
      "cell_type": "markdown",
      "metadata": {
        "id": "kR__HYol2gya"
      },
      "source": [
        "You can see that GPU is almost 15 times faster. We ran only one epoch for benchmarking but for actual training we have to run many epochs and also when data volume is big running deep learning without GPU can consume so much time. This is the reason why GPUs are becoming popular in the field of deep learning"
      ]
    },
    {
      "cell_type": "code",
      "execution_count": null,
      "metadata": {
        "id": "77MJWYzd2Blo"
      },
      "outputs": [],
      "source": []
    }
  ],
  "metadata": {
    "accelerator": "GPU",
    "colab": {
      "gpuType": "T4",
      "provenance": []
    },
    "kernelspec": {
      "display_name": "Python 3",
      "name": "python3"
    },
    "language_info": {
      "codemirror_mode": {
        "name": "ipython",
        "version": 3
      },
      "file_extension": ".py",
      "mimetype": "text/x-python",
      "name": "python",
      "nbconvert_exporter": "python",
      "pygments_lexer": "ipython3",
      "version": "3.8.10"
    },
    "orig_nbformat": 4,
    "vscode": {
      "interpreter": {
        "hash": "e7370f93d1d0cde622a1f8e1c04877d8463912d04d973331ad4851f04de6915a"
      }
    }
  },
  "nbformat": 4,
  "nbformat_minor": 0
}
