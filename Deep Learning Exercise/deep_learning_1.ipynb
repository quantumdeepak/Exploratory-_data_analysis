{
 "cells": [
  {
   "cell_type": "code",
   "execution_count": 1,
   "metadata": {},
   "outputs": [
    {
     "name": "stdout",
     "output_type": "stream",
     "text": [
      "\u001b[31mERROR: Could not open requirements file: [Errno 2] No such file or directory: 'requirements.txt'\u001b[0m\n",
      "Note: you may need to restart the kernel to use updated packages.\n"
     ]
    }
   ],
   "source": [
    "pip install -r requirements.txt"
   ]
  },
  {
   "cell_type": "code",
   "execution_count": 2,
   "metadata": {},
   "outputs": [
    {
     "ename": "ModuleNotFoundError",
     "evalue": "No module named 'tensorflow'",
     "output_type": "error",
     "traceback": [
      "\u001b[0;31m---------------------------------------------------------------------------\u001b[0m",
      "\u001b[0;31mModuleNotFoundError\u001b[0m                       Traceback (most recent call last)",
      "Cell \u001b[0;32mIn[2], line 1\u001b[0m\n\u001b[0;32m----> 1\u001b[0m \u001b[38;5;28;01mimport\u001b[39;00m \u001b[38;5;21;01mtensorflow\u001b[39;00m \u001b[38;5;28;01mas\u001b[39;00m \u001b[38;5;21;01mtf\u001b[39;00m\n",
      "\u001b[0;31mModuleNotFoundError\u001b[0m: No module named 'tensorflow'"
     ]
    }
   ],
   "source": [
    "import tensorflow as tf"
   ]
  },
  {
   "cell_type": "code",
   "execution_count": null,
   "metadata": {},
   "outputs": [],
   "source": [
    "from tensorflow import  keras\n",
    "import matplotlib.pyplot as plt\n",
    "%matplotlib inline\n",
    "import numpy as np"
   ]
  },
  {
   "cell_type": "code",
   "execution_count": null,
   "metadata": {},
   "outputs": [
    {
     "name": "stdout",
     "output_type": "stream",
     "text": [
      "Downloading data from https://storage.googleapis.com/tensorflow/tf-keras-datasets/mnist.npz\n",
      "11490434/11490434 [==============================] - 2s 0us/step\n"
     ]
    }
   ],
   "source": [
    "data=keras.datasets.mnist.load_data()"
   ]
  },
  {
   "cell_type": "code",
   "execution_count": null,
   "metadata": {},
   "outputs": [
    {
     "data": {
      "text/plain": [
       "tuple"
      ]
     },
     "execution_count": 5,
     "metadata": {},
     "output_type": "execute_result"
    }
   ],
   "source": [
    "type(data)"
   ]
  },
  {
   "cell_type": "code",
   "execution_count": null,
   "metadata": {},
   "outputs": [],
   "source": [
    "(x_train,y_train),(x_test,y_test)=data"
   ]
  },
  {
   "cell_type": "code",
   "execution_count": null,
   "metadata": {},
   "outputs": [
    {
     "data": {
      "text/plain": [
       "(2, 60000, 10000)"
      ]
     },
     "execution_count": 7,
     "metadata": {},
     "output_type": "execute_result"
    }
   ],
   "source": [
    "len(data),len(x_train),len(x_test)"
   ]
  },
  {
   "cell_type": "code",
   "execution_count": null,
   "metadata": {},
   "outputs": [
    {
     "data": {
      "text/plain": [
       "((60000, 28, 28), (28, 28))"
      ]
     },
     "execution_count": 8,
     "metadata": {},
     "output_type": "execute_result"
    }
   ],
   "source": [
    "x_train.shape,x_train[0].shape"
   ]
  },
  {
   "cell_type": "code",
   "execution_count": null,
   "metadata": {},
   "outputs": [],
   "source": [
    "x_train[0];"
   ]
  },
  {
   "cell_type": "code",
   "execution_count": null,
   "metadata": {},
   "outputs": [
    {
     "data": {
      "text/plain": [
       "5"
      ]
     },
     "execution_count": 10,
     "metadata": {},
     "output_type": "execute_result"
    },
    {
     "data": {
      "image/png": "[encoded data removed]",
      "text/plain": [
       "<Figure size 480x480 with 1 Axes>"
      ]
     },
     "metadata": {},
     "output_type": "display_data"
    }
   ],
   "source": [
    "plt.matshow(x_train[0])\n",
    "y_train[0]"
   ]
  },
  {
   "cell_type": "code",
   "execution_count": null,
   "metadata": {},
   "outputs": [
    {
     "data": {
      "text/plain": [
       "(60000, 784)"
      ]
     },
     "execution_count": 11,
     "metadata": {},
     "output_type": "execute_result"
    }
   ],
   "source": [
    "x_train_flaten=x_train.reshape(len(x_train),-1)\n",
    "x_train_flaten.shape"
   ]
  },
  {
   "cell_type": "code",
   "execution_count": null,
   "metadata": {},
   "outputs": [
    {
     "data": {
      "text/plain": [
       "(10000, 784)"
      ]
     },
     "execution_count": 12,
     "metadata": {},
     "output_type": "execute_result"
    }
   ],
   "source": [
    "x_test_flaten=x_test.reshape(len(x_test),-1)\n",
    "x_test_flaten.shape"
   ]
  },
  {
   "cell_type": "code",
   "execution_count": null,
   "metadata": {},
   "outputs": [
    {
     "data": {
      "text/plain": [
       "array([  0,   0,   0,   0,   0,   0,   0,   0,   0,   0,   0,   0,   0,\n",
       "         0,   0,   0,   0,   0,   0,   0,   0,   0,   0,   0,   0,   0,\n",
       "         0,   0,   0,   0,   0,   0,   0,   0,   0,   0,   0,   0,   0,\n",
       "         0,   0,   0,   0,   0,   0,   0,   0,   0,   0,   0,   0,   0,\n",
       "         0,   0,   0,   0,   0,   0,   0,   0,   0,   0,   0,   0,   0,\n",
       "         0,   0,   0,   0,   0,   0,   0,   0,   0,   0,   0,   0,   0,\n",
       "         0,   0,   0,   0,   0,   0,   0,   0,   0,   0,   0,   0,   0,\n",
       "         0,   0,   0,   0,   0,   0,   0,   0,   0,   0,   0,   0,   0,\n",
       "         0,   0,   0,   0,   0,   0,   0,   0,   0,   0,   0,   0,   0,\n",
       "         0,   0,   0,   0,   0,   0,   0,   0,   0,   0,   0,   0,   0,\n",
       "         0,   0,   0,   0,   0,   0,   0,   0,   0,   0,   0,   0,   0,\n",
       "         0,   0,   0,   0,   0,   0,   0,   0,   0,   3,  18,  18,  18,\n",
       "       126, 136, 175,  26, 166, 255, 247, 127,   0,   0,   0,   0,   0,\n",
       "         0,   0,   0,   0,   0,   0,   0,  30,  36,  94, 154, 170, 253,\n",
       "       253, 253, 253, 253, 225, 172, 253, 242, 195,  64,   0,   0,   0,\n",
       "         0,   0,   0,   0,   0,   0,   0,   0,  49, 238, 253, 253, 253,\n",
       "       253, 253, 253, 253, 253, 251,  93,  82,  82,  56,  39,   0,   0,\n",
       "         0,   0,   0,   0,   0,   0,   0,   0,   0,   0,  18, 219, 253,\n",
       "       253, 253, 253, 253, 198, 182, 247, 241,   0,   0,   0,   0,   0,\n",
       "         0,   0,   0,   0,   0,   0,   0,   0,   0,   0,   0,   0,   0,\n",
       "        80, 156, 107, 253, 253, 205,  11,   0,  43, 154,   0,   0,   0,\n",
       "         0,   0,   0,   0,   0,   0,   0,   0,   0,   0,   0,   0,   0,\n",
       "         0,   0,   0,  14,   1, 154, 253,  90,   0,   0,   0,   0,   0,\n",
       "         0,   0,   0,   0,   0,   0,   0,   0,   0,   0,   0,   0,   0,\n",
       "         0,   0,   0,   0,   0,   0,   0, 139, 253, 190,   2,   0,   0,\n",
       "         0,   0,   0,   0,   0,   0,   0,   0,   0,   0,   0,   0,   0,\n",
       "         0,   0,   0,   0,   0,   0,   0,   0,   0,  11, 190, 253,  70,\n",
       "         0,   0,   0,   0,   0,   0,   0,   0,   0,   0,   0,   0,   0,\n",
       "         0,   0,   0,   0,   0,   0,   0,   0,   0,   0,   0,   0,  35,\n",
       "       241, 225, 160, 108,   1,   0,   0,   0,   0,   0,   0,   0,   0,\n",
       "         0,   0,   0,   0,   0,   0,   0,   0,   0,   0,   0,   0,   0,\n",
       "         0,   0,  81, 240, 253, 253, 119,  25,   0,   0,   0,   0,   0,\n",
       "         0,   0,   0,   0,   0,   0,   0,   0,   0,   0,   0,   0,   0,\n",
       "         0,   0,   0,   0,   0,  45, 186, 253, 253, 150,  27,   0,   0,\n",
       "         0,   0,   0,   0,   0,   0,   0,   0,   0,   0,   0,   0,   0,\n",
       "         0,   0,   0,   0,   0,   0,   0,   0,  16,  93, 252, 253, 187,\n",
       "         0,   0,   0,   0,   0,   0,   0,   0,   0,   0,   0,   0,   0,\n",
       "         0,   0,   0,   0,   0,   0,   0,   0,   0,   0,   0,   0, 249,\n",
       "       253, 249,  64,   0,   0,   0,   0,   0,   0,   0,   0,   0,   0,\n",
       "         0,   0,   0,   0,   0,   0,   0,   0,   0,   0,   0,  46, 130,\n",
       "       183, 253, 253, 207,   2,   0,   0,   0,   0,   0,   0,   0,   0,\n",
       "         0,   0,   0,   0,   0,   0,   0,   0,   0,   0,   0,  39, 148,\n",
       "       229, 253, 253, 253, 250, 182,   0,   0,   0,   0,   0,   0,   0,\n",
       "         0,   0,   0,   0,   0,   0,   0,   0,   0,   0,   0,  24, 114,\n",
       "       221, 253, 253, 253, 253, 201,  78,   0,   0,   0,   0,   0,   0,\n",
       "         0,   0,   0,   0,   0,   0,   0,   0,   0,   0,   0,  23,  66,\n",
       "       213, 253, 253, 253, 253, 198,  81,   2,   0,   0,   0,   0,   0,\n",
       "         0,   0,   0,   0,   0,   0,   0,   0,   0,   0,   0,  18, 171,\n",
       "       219, 253, 253, 253, 253, 195,  80,   9,   0,   0,   0,   0,   0,\n",
       "         0,   0,   0,   0,   0,   0,   0,   0,   0,   0,   0,  55, 172,\n",
       "       226, 253, 253, 253, 253, 244, 133,  11,   0,   0,   0,   0,   0,\n",
       "         0,   0,   0,   0,   0,   0,   0,   0,   0,   0,   0,   0,   0,\n",
       "       136, 253, 253, 253, 212, 135, 132,  16,   0,   0,   0,   0,   0,\n",
       "         0,   0,   0,   0,   0,   0,   0,   0,   0,   0,   0,   0,   0,\n",
       "         0,   0,   0,   0,   0,   0,   0,   0,   0,   0,   0,   0,   0,\n",
       "         0,   0,   0,   0,   0,   0,   0,   0,   0,   0,   0,   0,   0,\n",
       "         0,   0,   0,   0,   0,   0,   0,   0,   0,   0,   0,   0,   0,\n",
       "         0,   0,   0,   0,   0,   0,   0,   0,   0,   0,   0,   0,   0,\n",
       "         0,   0,   0,   0,   0,   0,   0,   0,   0,   0,   0,   0,   0,\n",
       "         0,   0,   0,   0,   0,   0,   0,   0,   0,   0,   0,   0,   0,\n",
       "         0,   0,   0,   0], dtype=uint8)"
      ]
     },
     "execution_count": 13,
     "metadata": {},
     "output_type": "execute_result"
    }
   ],
   "source": [
    "x_train_flaten[0]"
   ]
  },
  {
   "cell_type": "code",
   "execution_count": null,
   "metadata": {},
   "outputs": [],
   "source": [
    "# Sequential means we are having a stack of layers in nueral network\n",
    "# as it is a stack it will accept every layer as one element\n",
    "model=keras.Sequential([\n",
    "    keras.layers.Dense(10, input_shape=(784,),activation='sigmoid')\n",
    "])"
   ]
  },
  {
   "cell_type": "code",
   "execution_count": null,
   "metadata": {},
   "outputs": [],
   "source": [
    "model.compile(\n",
    "    optimizer='adam',\n",
    "    # categorical as the data is categorical in nature 0-9 we have 10 categories in our class\n",
    "    # sparce is for output (y_train) veriable which is an integer number\n",
    "    # if it is  one hot encoded array then we would have used categorical entropy\n",
    "    loss='sparse_categorical_crossentropy',\n",
    "    metrics=['accuracy'],\n",
    ")"
   ]
  },
  {
   "cell_type": "code",
   "execution_count": null,
   "metadata": {},
   "outputs": [
    {
     "name": "stdout",
     "output_type": "stream",
     "text": [
      "Epoch 1/5\n",
      "1875/1875 [==============================] - 3s 1ms/step - loss: 9.9894 - accuracy: 0.8385\n",
      "Epoch 2/5\n",
      "1875/1875 [==============================] - 3s 1ms/step - loss: 6.1081 - accuracy: 0.8787\n",
      "Epoch 3/5\n",
      "1875/1875 [==============================] - 3s 1ms/step - loss: 5.6458 - accuracy: 0.8835\n",
      "Epoch 4/5\n",
      "1875/1875 [==============================] - 3s 1ms/step - loss: 5.6733 - accuracy: 0.8838\n",
      "Epoch 5/5\n",
      "1875/1875 [==============================] - 3s 1ms/step - loss: 5.2767 - accuracy: 0.8869\n"
     ]
    },
    {
     "data": {
      "text/plain": [
       "<keras.src.callbacks.History at 0x7f9753655ca0>"
      ]
     },
     "execution_count": 16,
     "metadata": {},
     "output_type": "execute_result"
    }
   ],
   "source": [
    "# actual traning of the data\n",
    "model.fit(x_train_flaten,y_train,epochs=5)"
   ]
  },
  {
   "cell_type": "code",
   "execution_count": null,
   "metadata": {},
   "outputs": [
    {
     "name": "stdout",
     "output_type": "stream",
     "text": [
      "313/313 [==============================] - 1s 1ms/step - loss: 5.3741 - accuracy: 0.8925\n"
     ]
    },
    {
     "data": {
      "text/plain": [
       "[5.3740973472595215, 0.8924999833106995]"
      ]
     },
     "execution_count": 17,
     "metadata": {},
     "output_type": "execute_result"
    }
   ],
   "source": [
    "# Eveoulating tthe accuracy of the model\n",
    "model.evaluate(x_test_flaten,y_test)"
   ]
  },
  {
   "cell_type": "code",
   "execution_count": null,
   "metadata": {},
   "outputs": [
    {
     "name": "stdout",
     "output_type": "stream",
     "text": [
      "Epoch 1/5\n",
      "1875/1875 [==============================] - 3s 1ms/step - loss: 0.4681 - accuracy: 0.8774\n",
      "Epoch 2/5\n",
      "1875/1875 [==============================] - 3s 1ms/step - loss: 0.3035 - accuracy: 0.9153\n",
      "Epoch 3/5\n",
      "1875/1875 [==============================] - 3s 1ms/step - loss: 0.2834 - accuracy: 0.9208\n",
      "Epoch 4/5\n",
      "1875/1875 [==============================] - 3s 1ms/step - loss: 0.2729 - accuracy: 0.9235\n",
      "Epoch 5/5\n",
      "1875/1875 [==============================] - 3s 1ms/step - loss: 0.2667 - accuracy: 0.9254\n"
     ]
    },
    {
     "data": {
      "text/plain": [
       "<keras.src.callbacks.History at 0x7f971c53c850>"
      ]
     },
     "execution_count": 18,
     "metadata": {},
     "output_type": "execute_result"
    }
   ],
   "source": [
    "# as we can see the acuracy is not very grate so we will acale down the data\n",
    "x_train=x_train / 255\n",
    "x_test=x_test / 255\n",
    "x_train_flaten=x_train.reshape(len(x_train),-1)\n",
    "x_test_flaten=x_test.reshape(len(x_test),-1)\n",
    "model1=keras.Sequential([\n",
    "    keras.layers.Dense(10, input_shape=(784,),activation='sigmoid')\n",
    "])\n",
    "\n",
    "model1.compile(\n",
    "    optimizer='adam',\n",
    "    loss='sparse_categorical_crossentropy',\n",
    "    metrics=['accuracy'],\n",
    ")\n",
    "model1.fit(x_train_flaten,y_train,epochs=5)"
   ]
  },
  {
   "cell_type": "code",
   "execution_count": null,
   "metadata": {},
   "outputs": [
    {
     "data": {
      "text/plain": [
       "1.0"
      ]
     },
     "execution_count": 19,
     "metadata": {},
     "output_type": "execute_result"
    }
   ],
   "source": [
    "x_test_flaten.max()"
   ]
  },
  {
   "cell_type": "code",
   "execution_count": null,
   "metadata": {},
   "outputs": [
    {
     "name": "stdout",
     "output_type": "stream",
     "text": [
      "313/313 [==============================] - 0s 1ms/step - loss: 0.2752 - accuracy: 0.9226\n"
     ]
    },
    {
     "data": {
      "text/plain": [
       "[0.27521631121635437, 0.9225999712944031]"
      ]
     },
     "execution_count": 20,
     "metadata": {},
     "output_type": "execute_result"
    }
   ],
   "source": [
    "# Eveoulating tthe accuracy of the model\n",
    "model1.evaluate(x_test_flaten,y_test)"
   ]
  },
  {
   "cell_type": "code",
   "execution_count": null,
   "metadata": {},
   "outputs": [
    {
     "name": "stdout",
     "output_type": "stream",
     "text": [
      "313/313 [==============================] - 0s 1ms/step\n"
     ]
    },
    {
     "data": {
      "text/plain": [
       "array([2.4411049e-02, 4.0146824e-07, 4.9545273e-02, 9.5891285e-01,\n",
       "       1.6284768e-03, 1.3691440e-01, 1.5323139e-06, 9.9982536e-01,\n",
       "       1.4297597e-01, 7.0116925e-01], dtype=float32)"
      ]
     },
     "execution_count": 21,
     "metadata": {},
     "output_type": "execute_result"
    }
   ],
   "source": [
    "y_predicted=model1.predict(x_test_flaten)\n",
    "y_predicted[0]"
   ]
  },
  {
   "cell_type": "code",
   "execution_count": null,
   "metadata": {},
   "outputs": [
    {
     "data": {
      "text/plain": [
       "<matplotlib.image.AxesImage at 0x7f971c189d90>"
      ]
     },
     "execution_count": 22,
     "metadata": {},
     "output_type": "execute_result"
    },
    {
     "data": {
      "image/png": "[encoded data removed]",
      "text/plain": [
       "<Figure size 480x480 with 1 Axes>"
      ]
     },
     "metadata": {},
     "output_type": "display_data"
    }
   ],
   "source": [
    "plt.matshow(x_test[0])"
   ]
  },
  {
   "cell_type": "code",
   "execution_count": null,
   "metadata": {},
   "outputs": [
    {
     "data": {
      "text/plain": [
       "7"
      ]
     },
     "execution_count": 23,
     "metadata": {},
     "output_type": "execute_result"
    }
   ],
   "source": [
    "## np.argmax finds a maximum element from an array and returns the index of it\n",
    "np.argmax(y_predicted[0])"
   ]
  },
  {
   "cell_type": "code",
   "execution_count": null,
   "metadata": {},
   "outputs": [
    {
     "data": {
      "text/plain": [
       "[7, 2, 1, 0, 4]"
      ]
     },
     "execution_count": 24,
     "metadata": {},
     "output_type": "execute_result"
    }
   ],
   "source": [
    "y_predicted_label=[np.argmax(i) for i in y_predicted]\n",
    "y_predicted_label[:5]"
   ]
  },
  {
   "cell_type": "code",
   "execution_count": null,
   "metadata": {},
   "outputs": [
    {
     "data": {
      "text/plain": [
       "<tf.Tensor: shape=(10, 10), dtype=int32, numpy=\n",
       "array([[ 956,    0,    0,    2,    0,    5,    9,    3,    5,    0],\n",
       "       [   0, 1110,    3,    2,    0,    1,    4,    2,   13,    0],\n",
       "       [   4,    9,  891,   23,    6,    4,   13,   11,   67,    4],\n",
       "       [   2,    0,   10,  921,    0,   21,    3,   10,   35,    8],\n",
       "       [   1,    1,    2,    2,  893,    0,   14,    4,   12,   53],\n",
       "       [   8,    3,    1,   32,    6,  762,   17,    7,   50,    6],\n",
       "       [   9,    3,    4,    1,    7,   11,  915,    2,    6,    0],\n",
       "       [   1,    6,   21,    8,    4,    0,    0,  948,    4,   36],\n",
       "       [   4,    6,    5,   15,    8,   16,    9,    8,  897,    6],\n",
       "       [   9,    6,    1,    8,   16,    5,    0,   17,   14,  933]],\n",
       "      dtype=int32)>"
      ]
     },
     "execution_count": 25,
     "metadata": {},
     "output_type": "execute_result"
    }
   ],
   "source": [
    "## Defining the confuession matrix\n",
    "# cm stands for confuession matrix\n",
    "cm=tf.math.confusion_matrix(labels=y_test,predictions=y_predicted_label)\n",
    "cm"
   ]
  },
  {
   "cell_type": "code",
   "execution_count": null,
   "metadata": {},
   "outputs": [
    {
     "data": {
      "text/plain": [
       "Text(95.72222222222221, 0.5, 'Trught')"
      ]
     },
     "execution_count": 26,
     "metadata": {},
     "output_type": "execute_result"
    },
    {
     "data": {
      "image/png": "[encoded data removed]",
      "text/plain": [
       "<Figure size 1000x700 with 2 Axes>"
      ]
     },
     "metadata": {},
     "output_type": "display_data"
    }
   ],
   "source": [
    "import seaborn as sns\n",
    "plt.figure(figsize=(10,7))\n",
    "sns.heatmap(cm,annot=True,fmt='d')\n",
    "plt.xlabel('predicted')\n",
    "plt.ylabel('Trught')"
   ]
  },
  {
   "cell_type": "markdown",
   "metadata": {},
   "source": [
    "#### using hidden layer"
   ]
  },
  {
   "cell_type": "code",
   "execution_count": null,
   "metadata": {},
   "outputs": [
    {
     "name": "stdout",
     "output_type": "stream",
     "text": [
      "Epoch 1/5\n",
      "1875/1875 [==============================] - 5s 2ms/step - loss: 0.2723 - accuracy: 0.9227\n",
      "Epoch 2/5\n",
      "1875/1875 [==============================] - 4s 2ms/step - loss: 0.1240 - accuracy: 0.9639\n",
      "Epoch 3/5\n",
      "1875/1875 [==============================] - 4s 2ms/step - loss: 0.0864 - accuracy: 0.9739\n",
      "Epoch 4/5\n",
      "1875/1875 [==============================] - 5s 2ms/step - loss: 0.0657 - accuracy: 0.9798\n",
      "Epoch 5/5\n",
      "1875/1875 [==============================] - 5s 2ms/step - loss: 0.0521 - accuracy: 0.9844\n"
     ]
    },
    {
     "data": {
      "text/plain": [
       "<keras.src.callbacks.History at 0x7f969c2d7070>"
      ]
     },
     "execution_count": 27,
     "metadata": {},
     "output_type": "execute_result"
    }
   ],
   "source": [
    "model=keras.Sequential([\n",
    "    # 100 represents the number of nueral connections we wnat in the hidden layer for now we are using the hit and trail method\n",
    "\n",
    "    keras.layers.Dense(100,input_shape=(28*28,), activation='relu'),\n",
    "    # 10 number of output veriables in in nueral network\n",
    "    keras.layers.Dense(10,activation='sigmoid')\n",
    "])\n",
    "\n",
    "model.compile(\n",
    "    optimizer='adam',\n",
    "    loss='sparse_categorical_crossentropy',\n",
    "    metrics=['accuracy']\n",
    ")\n",
    "\n",
    "model.fit(x_train_flaten,y_train,epochs=5)"
   ]
  },
  {
   "cell_type": "code",
   "execution_count": null,
   "metadata": {},
   "outputs": [
    {
     "name": "stdout",
     "output_type": "stream",
     "text": [
      "313/313 [==============================] - 1s 1ms/step - loss: 0.0757 - accuracy: 0.9773\n"
     ]
    },
    {
     "data": {
      "text/plain": [
       "[0.07573843747377396, 0.9772999882698059]"
      ]
     },
     "execution_count": 28,
     "metadata": {},
     "output_type": "execute_result"
    }
   ],
   "source": [
    "model.evaluate(x_test_flaten,y_test)"
   ]
  },
  {
   "cell_type": "code",
   "execution_count": null,
   "metadata": {},
   "outputs": [
    {
     "name": "stdout",
     "output_type": "stream",
     "text": [
      "313/313 [==============================] - 0s 1ms/step\n"
     ]
    },
    {
     "data": {
      "text/plain": [
       "<Axes: >"
      ]
     },
     "execution_count": 29,
     "metadata": {},
     "output_type": "execute_result"
    },
    {
     "data": {
      "image/png": "[encoded data removed]",
      "text/plain": [
       "<Figure size 640x480 with 2 Axes>"
      ]
     },
     "metadata": {},
     "output_type": "display_data"
    }
   ],
   "source": [
    "y_predicted=model.predict(x_test_flaten)\n",
    "y_predicted_label=[np.argmax(i) for i in y_predicted]\n",
    "cm= tf.math.confusion_matrix(labels=y_test,predictions=y_predicted_label)\n",
    "\n",
    "plt.Figure(figsize=(10,7))\n",
    "sns.heatmap(cm,annot=True,fmt='d')"
   ]
  },
  {
   "cell_type": "markdown",
   "metadata": {},
   "source": [
    "#### using tgheflatten layer so that we wont have to call input .reshape on the input dataset"
   ]
  },
  {
   "cell_type": "code",
   "execution_count": null,
   "metadata": {},
   "outputs": [
    {
     "name": "stdout",
     "output_type": "stream",
     "text": [
      "Epoch 1/10\n",
      "1875/1875 [==============================] - 5s 2ms/step - loss: 0.2771 - accuracy: 0.9219\n",
      "Epoch 2/10\n",
      "1875/1875 [==============================] - 5s 3ms/step - loss: 0.1249 - accuracy: 0.9629\n",
      "Epoch 3/10\n",
      "1875/1875 [==============================] - 4s 2ms/step - loss: 0.0858 - accuracy: 0.9738\n",
      "Epoch 4/10\n",
      "1875/1875 [==============================] - 4s 2ms/step - loss: 0.0648 - accuracy: 0.9803\n",
      "Epoch 5/10\n",
      "1875/1875 [==============================] - 4s 2ms/step - loss: 0.0512 - accuracy: 0.9845\n",
      "Epoch 6/10\n",
      "1875/1875 [==============================] - 5s 2ms/step - loss: 0.0401 - accuracy: 0.9876\n",
      "Epoch 7/10\n",
      "1875/1875 [==============================] - 5s 2ms/step - loss: 0.0331 - accuracy: 0.9892\n",
      "Epoch 8/10\n",
      "1875/1875 [==============================] - 4s 2ms/step - loss: 0.0278 - accuracy: 0.9913\n",
      "Epoch 9/10\n",
      "1875/1875 [==============================] - 5s 2ms/step - loss: 0.0222 - accuracy: 0.9931\n",
      "Epoch 10/10\n",
      "1875/1875 [==============================] - 4s 2ms/step - loss: 0.0188 - accuracy: 0.9940\n"
     ]
    },
    {
     "data": {
      "text/plain": [
       "<keras.src.callbacks.History at 0x7f969c29d1f0>"
      ]
     },
     "execution_count": 30,
     "metadata": {},
     "output_type": "execute_result"
    }
   ],
   "source": [
    "model=keras.Sequential([\n",
    "    keras.layers.Flatten(input_shape=(28,28)),\n",
    "    keras.layers.Dense(100,activation='relu'),\n",
    "    # No need to mention the if the array is array is flattened using the keras\n",
    "    keras.layers.Dense(10,activation='sigmoid')\n",
    "])\n",
    "\n",
    "model.compile(\n",
    "    optimizer='adam',\n",
    "    loss='sparse_categorical_crossentropy',\n",
    "    metrics=['accuracy']\n",
    ")\n",
    "model.fit(x_train,y_train,epochs=10)"
   ]
  },
  {
   "cell_type": "code",
   "execution_count": null,
   "metadata": {},
   "outputs": [
    {
     "name": "stdout",
     "output_type": "stream",
     "text": [
      "313/313 [==============================] - 1s 1ms/step - loss: 0.0818 - accuracy: 0.9762\n"
     ]
    },
    {
     "data": {
      "text/plain": [
       "[0.08176825195550919, 0.9761999845504761]"
      ]
     },
     "execution_count": 31,
     "metadata": {},
     "output_type": "execute_result"
    }
   ],
   "source": [
    "model.evaluate(x_test,y_test)"
   ]
  },
  {
   "cell_type": "code",
   "execution_count": null,
   "metadata": {},
   "outputs": [],
   "source": [
    "# insted of optimizer we can use diffrent types of optimizers it can be SGD  or any other"
   ]
  },
  {
   "cell_type": "code",
   "execution_count": null,
   "metadata": {},
   "outputs": [
    {
     "name": "stdout",
     "output_type": "stream",
     "text": [
      "Epoch 1/10\n",
      "1875/1875 [==============================] - 6s 3ms/step - loss: 0.2764 - accuracy: 0.9217\n",
      "Epoch 2/10\n",
      "1875/1875 [==============================] - 5s 3ms/step - loss: 0.1258 - accuracy: 0.9638\n",
      "Epoch 3/10\n",
      "1875/1875 [==============================] - 5s 3ms/step - loss: 0.0888 - accuracy: 0.9732\n",
      "Epoch 4/10\n",
      "1875/1875 [==============================] - 5s 3ms/step - loss: 0.0675 - accuracy: 0.9796\n",
      "Epoch 5/10\n",
      "1875/1875 [==============================] - 5s 2ms/step - loss: 0.0526 - accuracy: 0.9840\n",
      "Epoch 6/10\n",
      "1875/1875 [==============================] - 5s 3ms/step - loss: 0.0434 - accuracy: 0.9862\n",
      "Epoch 7/10\n",
      "1875/1875 [==============================] - 5s 3ms/step - loss: 0.0350 - accuracy: 0.9889\n",
      "Epoch 8/10\n",
      "1875/1875 [==============================] - 5s 3ms/step - loss: 0.0290 - accuracy: 0.9912\n",
      "Epoch 9/10\n",
      "1875/1875 [==============================] - 5s 3ms/step - loss: 0.0239 - accuracy: 0.9928\n",
      "Epoch 10/10\n",
      "1875/1875 [==============================] - 5s 3ms/step - loss: 0.0213 - accuracy: 0.9934\n"
     ]
    },
    {
     "data": {
      "text/plain": [
       "<keras.src.callbacks.History at 0x7f965c7b2490>"
      ]
     },
     "execution_count": 33,
     "metadata": {},
     "output_type": "execute_result"
    }
   ],
   "source": [
    "## using the tenserbord for the performance metric visulation\n",
    "model=keras.Sequential([\n",
    "    keras.layers.Flatten(input_shape=(28,28)),\n",
    "    keras.layers.Dense(100,activation='relu'),\n",
    "    # No need to mention the if the array is array is flattened using the keras\n",
    "    keras.layers.Dense(10,activation='sigmoid')\n",
    "])\n",
    "\n",
    "tb_callback=tf.keras.callbacks.TensorBoard(log_dir=\"logs/\",histogram_freq=1)\n",
    "\n",
    "model.compile(\n",
    "    optimizer='adam',\n",
    "    loss='sparse_categorical_crossentropy',\n",
    "    metrics=['accuracy']\n",
    ")\n",
    "model.fit(x_train,y_train,epochs=10,callbacks=[tb_callback])"
   ]
  },
  {
   "cell_type": "code",
   "execution_count": null,
   "metadata": {},
   "outputs": [
    {
     "data": {
      "text/plain": [
       "ERROR: Could not find `tensorboard`. Please ensure that your PATH\n",
       "contains an executable `tensorboard` program, or explicitly specify\n",
       "the path to a TensorBoard binary by setting the `TENSORBOARD_BINARY`\n",
       "environment variable."
      ]
     },
     "metadata": {},
     "output_type": "display_data"
    }
   ],
   "source": [
    "%load_ext tensorboard\n",
    "%tensorboard --logdir logs/fit"
   ]
  },
  {
   "cell_type": "code",
   "execution_count": null,
   "metadata": {},
   "outputs": [
    {
     "data": {
      "text/plain": [
       "[array([[-0.03594202,  0.00329114,  0.00847228, ..., -0.05880479,\n",
       "          0.04173025,  0.08093043],\n",
       "        [-0.05543912, -0.0431064 ,  0.0098431 , ...,  0.0738803 ,\n",
       "         -0.06511115,  0.03462053],\n",
       "        [-0.04516009,  0.00547563,  0.02319445, ...,  0.08224438,\n",
       "          0.07254922,  0.01434167],\n",
       "        ...,\n",
       "        [ 0.04694657,  0.04735525, -0.01771263, ...,  0.07666208,\n",
       "          0.04932594,  0.05934392],\n",
       "        [-0.07412779,  0.00662097, -0.05390298, ..., -0.05755065,\n",
       "          0.0383705 , -0.04893084],\n",
       "        [-0.04889281,  0.06391846,  0.07437688, ..., -0.00318012,\n",
       "          0.057942  , -0.01513905]], dtype=float32),\n",
       " array([-4.19190824e-02,  2.46220574e-01,  6.40202761e-02,  1.85519382e-02,\n",
       "        -4.25168388e-02, -2.15815395e-01,  2.78529320e-02, -1.09866321e-01,\n",
       "         1.18432887e-01,  2.32050642e-01, -1.87539592e-01, -8.33983868e-02,\n",
       "        -1.67735703e-02, -1.53084993e-01, -1.72256768e-01, -3.84767912e-02,\n",
       "         1.25608876e-01,  2.44381458e-01, -2.65980307e-02, -2.89183352e-02,\n",
       "         8.86269659e-03, -2.10914854e-02,  1.96296386e-02,  2.18801335e-01,\n",
       "        -9.20144767e-02, -1.05956057e-03, -1.39488131e-01,  5.69530763e-02,\n",
       "         7.92812258e-02, -4.39495407e-02,  1.50909915e-03, -3.16826142e-02,\n",
       "         6.37060590e-03,  7.90458620e-02, -1.22966152e-02,  2.39466980e-01,\n",
       "         1.56553730e-01, -3.93791981e-02,  2.29550321e-02, -8.41762796e-02,\n",
       "         2.51290709e-01, -1.93525687e-01, -1.49502568e-02,  1.72435924e-01,\n",
       "         7.88676068e-02,  2.23426536e-01, -2.47687511e-02,  1.60838515e-01,\n",
       "        -3.84801850e-02,  1.69448644e-01,  7.39737600e-03,  1.09886274e-01,\n",
       "        -4.62806411e-02, -5.41898943e-02, -4.47880924e-02, -1.98094342e-02,\n",
       "         2.72979617e-01, -1.56319559e-01,  5.14658820e-03,  1.09169915e-01,\n",
       "         3.18952091e-02, -9.01326537e-02, -1.98046625e-01, -2.65452167e-04,\n",
       "        -3.76582257e-02,  1.55684412e-01, -8.48326460e-02,  2.06803650e-01,\n",
       "         2.63219904e-02,  4.96665388e-02,  2.61483043e-01, -9.84528661e-02,\n",
       "        -1.82060152e-01,  1.92669537e-02, -2.45368816e-02,  7.42360130e-02,\n",
       "         6.42220378e-02,  2.51457244e-02,  2.07653522e-01,  1.22675650e-01,\n",
       "         3.95503566e-02,  2.00161651e-01,  1.40505359e-01,  1.32083416e-01,\n",
       "         2.13588551e-01,  1.18435025e-01,  2.37524927e-01,  3.30017172e-02,\n",
       "         1.66432694e-01,  8.97238776e-02, -4.83652242e-02,  2.60116577e-01,\n",
       "        -7.85736069e-02,  3.23362648e-01,  1.70009881e-01, -1.16436314e-02,\n",
       "         2.03204140e-01, -9.02632102e-02,  9.27004963e-02, -7.90957510e-02],\n",
       "       dtype=float32),\n",
       " array([[ 2.52915680e-01,  4.44568098e-01, -5.22602081e-01,\n",
       "         -5.27563453e-01,  2.96195298e-01, -1.65873215e-01,\n",
       "          4.19639796e-01, -8.05176571e-02, -5.95733583e-01,\n",
       "          1.36890262e-01],\n",
       "        [ 1.72555164e-01, -3.15661758e-01, -2.20173329e-01,\n",
       "          3.40019772e-03,  4.20053124e-01, -2.30205269e-03,\n",
       "          1.10197999e-01,  9.93451118e-01, -5.21129727e-01,\n",
       "         -9.28398609e-01],\n",
       "        [ 1.85452953e-01, -6.82033226e-02, -4.63353872e-01,\n",
       "         -8.24091613e-01,  3.59395266e-01,  2.64053822e-01,\n",
       "          1.28916949e-01,  2.51953416e-02,  1.53676137e-01,\n",
       "          2.26367459e-01],\n",
       "        [-2.82280326e-01, -4.10063922e-01, -8.25596571e-01,\n",
       "          2.70312011e-01, -2.20404282e-01,  5.53278148e-01,\n",
       "         -3.24624717e-01, -6.17324412e-01,  1.95819408e-01,\n",
       "          4.07673061e-01],\n",
       "        [ 2.79011965e-01,  2.95196533e-01, -4.32236493e-01,\n",
       "          5.16606152e-01, -7.30263948e-01,  4.29089963e-01,\n",
       "         -1.98478639e-01, -3.34360003e-01, -3.60414952e-01,\n",
       "         -1.40952349e-01],\n",
       "        [-1.73543692e-01,  3.91459204e-02, -1.72921225e-01,\n",
       "          3.08724791e-01, -3.57147515e-01, -3.61546189e-01,\n",
       "         -6.45744085e-01, -2.07988486e-01,  1.62503481e-01,\n",
       "          5.61767034e-02],\n",
       "        [-2.75426507e-01, -6.99486509e-02, -1.09095916e-01,\n",
       "         -4.91205215e-01, -6.64680377e-02,  4.68057185e-01,\n",
       "          4.60352935e-02,  4.16652858e-01, -7.78061092e-01,\n",
       "          3.61323118e-01],\n",
       "        [ 2.01860145e-01, -7.08496571e-01, -2.04358235e-01,\n",
       "          1.18850730e-01, -1.36543795e-01,  7.48751760e-02,\n",
       "          2.25407869e-01,  6.93427250e-02,  4.70820852e-02,\n",
       "          2.37140700e-01],\n",
       "        [-7.01155216e-02, -2.93811977e-01,  8.42108950e-03,\n",
       "         -1.03942744e-01, -5.52392118e-02, -6.91981614e-02,\n",
       "          1.80954754e-01, -7.56698474e-02,  9.86053944e-02,\n",
       "         -3.70383523e-02],\n",
       "        [-3.58681709e-01,  1.98767558e-01, -4.79187876e-01,\n",
       "         -2.09634006e-01,  2.62995154e-01,  2.88548738e-01,\n",
       "         -4.32044387e-01,  2.51873732e-01,  3.01134318e-01,\n",
       "          1.44407123e-01],\n",
       "        [ 7.77918287e-03, -6.80267587e-02,  4.02924746e-01,\n",
       "          2.07033619e-01, -3.37957442e-01, -4.45322841e-01,\n",
       "          4.80858982e-02,  6.73765242e-01, -6.19114697e-01,\n",
       "         -1.50305676e+00],\n",
       "        [ 1.94297522e-01,  1.23658024e-01,  2.23038450e-01,\n",
       "          1.12713873e-01, -3.02196145e-01,  2.43116662e-01,\n",
       "         -1.00892270e+00,  2.58317739e-01, -3.08998525e-01,\n",
       "         -3.27153325e-01],\n",
       "        [ 7.23610818e-02, -5.09351552e-01, -2.23164827e-01,\n",
       "          7.97951967e-02,  3.99075588e-03,  4.34216499e-01,\n",
       "          3.87018114e-01, -2.59727240e-01, -5.14045715e-01,\n",
       "          7.29061142e-02],\n",
       "        [ 1.10280730e-01, -6.48750216e-02, -5.49519718e-01,\n",
       "          1.19329363e-01,  2.74913400e-01, -3.60867679e-01,\n",
       "         -1.11213565e-01, -1.25184003e-02, -6.70983195e-01,\n",
       "          4.34242845e-01],\n",
       "        [-5.67488037e-02,  2.31556252e-01, -3.73030640e-02,\n",
       "          1.26170129e-01,  3.85169715e-01, -8.24711323e-01,\n",
       "         -1.01998806e+00,  1.96687952e-01,  5.36048897e-02,\n",
       "         -7.19161183e-02],\n",
       "        [-3.19716752e-01,  4.10622001e-01, -5.95594868e-02,\n",
       "         -9.67904985e-01,  2.45554611e-01, -8.56950700e-01,\n",
       "         -1.34385988e-01,  3.23152632e-01, -1.88741460e-01,\n",
       "         -1.19393701e-02],\n",
       "        [ 3.15017164e-01, -4.40718047e-02, -3.21256369e-01,\n",
       "         -4.75254893e-01, -1.00688565e+00,  3.39936882e-01,\n",
       "          1.16830796e-01,  2.23131493e-01,  1.44942075e-01,\n",
       "         -1.08228534e-01],\n",
       "        [-1.08339518e-01, -3.63416165e-01,  2.79123127e-01,\n",
       "         -9.34865251e-02, -8.32577407e-01,  4.62584406e-01,\n",
       "          5.15196979e-01, -6.97594702e-01, -9.79162082e-02,\n",
       "         -3.66475105e-01],\n",
       "        [-9.00081173e-02, -1.82371318e-01,  5.25429957e-02,\n",
       "          1.15419410e-01, -7.17772394e-02, -9.12091285e-02,\n",
       "         -8.13600421e-02, -2.42657453e-01,  1.82899624e-01,\n",
       "          5.29766642e-02],\n",
       "        [-1.32389024e-01,  1.61267638e-01,  8.47291052e-02,\n",
       "          8.92125145e-02, -4.37404662e-01,  2.34578922e-01,\n",
       "          2.84405410e-01,  2.73369730e-01,  4.33760226e-01,\n",
       "         -9.51233804e-01],\n",
       "        [ 3.35210592e-01, -3.94828543e-02,  1.75188646e-01,\n",
       "          1.15932405e-01,  1.71073318e-01, -7.03485131e-01,\n",
       "          3.19072269e-02, -1.59967318e-01, -3.45419556e-01,\n",
       "          2.16411635e-01],\n",
       "        [-8.26700985e-01,  2.20358565e-01,  9.77450609e-03,\n",
       "          5.12117632e-02, -4.69567657e-01,  6.56430244e-01,\n",
       "         -4.66129541e-01,  3.23320657e-01, -8.03917348e-02,\n",
       "          3.04043163e-02],\n",
       "        [-7.61587679e-01, -2.30561972e-01,  4.58794832e-01,\n",
       "         -2.15696871e-01, -3.01394641e-01, -6.24353766e-01,\n",
       "         -3.08526516e-01,  2.29344934e-01,  5.22985578e-01,\n",
       "         -3.11993301e-01],\n",
       "        [-1.82815343e-02, -3.99361044e-01, -7.81857446e-02,\n",
       "         -9.47903752e-01,  4.32122439e-01,  1.39090016e-01,\n",
       "          7.63421878e-02,  3.72016102e-01, -6.04135275e-01,\n",
       "         -1.59405842e-01],\n",
       "        [ 4.83619571e-02,  2.13493958e-01,  1.63697600e-01,\n",
       "          2.23827466e-01, -6.21077359e-01,  1.57376572e-01,\n",
       "          2.04675987e-01, -5.40122509e-01,  2.29969472e-01,\n",
       "          1.60832316e-01],\n",
       "        [-2.15488136e-01,  1.08258314e-02, -1.88366085e-01,\n",
       "         -3.72128874e-01,  1.96806028e-01, -1.87213168e-01,\n",
       "          1.99402168e-01, -3.22766572e-01, -7.69719183e-02,\n",
       "          4.64287758e-01],\n",
       "        [ 3.19314063e-01, -1.82566792e-01, -7.31567591e-02,\n",
       "          1.77857280e-01, -2.88562000e-01, -9.26406831e-02,\n",
       "          9.60270688e-02, -4.54800762e-02,  2.24440709e-01,\n",
       "          2.17479751e-01],\n",
       "        [-6.36025369e-01,  6.75737439e-03,  3.83876622e-01,\n",
       "         -1.19131975e-01, -2.02689812e-01,  1.85338948e-02,\n",
       "          1.34998709e-01,  4.96788740e-01, -1.58715799e-01,\n",
       "         -1.07855451e+00],\n",
       "        [-5.68910353e-02,  1.73638716e-01,  6.89895153e-01,\n",
       "         -4.38861698e-01,  1.55329080e-02, -8.59001994e-01,\n",
       "         -3.50385904e-01, -1.59412026e-01, -2.69436799e-02,\n",
       "          4.64581758e-01],\n",
       "        [-9.38168764e-01,  2.80368596e-01,  1.43331409e-01,\n",
       "          9.92591027e-03,  2.40774870e-01,  5.95317900e-01,\n",
       "         -3.36446129e-02,  5.58471791e-02, -1.32363141e-01,\n",
       "         -3.91771436e-01],\n",
       "        [ 5.89529686e-02,  1.88973844e-01,  3.29896986e-01,\n",
       "          1.12662360e-01,  3.96489143e-01, -8.44656706e-01,\n",
       "         -4.86466169e-01,  1.97171926e-01, -2.95546681e-01,\n",
       "          9.70253423e-02],\n",
       "        [ 3.63584198e-02,  2.13063106e-01, -5.01510166e-02,\n",
       "          3.10580581e-01,  2.52366900e-01,  3.44975233e-01,\n",
       "          1.30798832e-01, -4.73159432e-01,  1.65926680e-01,\n",
       "         -2.89017767e-01],\n",
       "        [-6.09448627e-02,  1.05998255e-01, -3.07016402e-01,\n",
       "          3.58131528e-02, -4.11704555e-02, -4.58711922e-01,\n",
       "          1.00429982e-01, -1.22211426e-01,  6.29797652e-02,\n",
       "          3.07663739e-01],\n",
       "        [ 1.78618789e-01, -1.92080155e-01, -1.62111253e-01,\n",
       "          9.75461155e-02,  1.29419088e-01, -1.35258824e-01,\n",
       "         -4.78384852e-01,  1.33825794e-01,  1.61614791e-01,\n",
       "          2.05491930e-01],\n",
       "        [ 4.58055362e-02,  3.72239202e-01, -2.31797457e-01,\n",
       "         -2.05826506e-01, -2.64957517e-01,  2.67593693e-02,\n",
       "         -9.43180859e-01,  1.37734160e-01, -2.93040544e-01,\n",
       "          1.70892522e-01],\n",
       "        [-3.15605104e-01, -5.85017264e-01, -3.28557670e-01,\n",
       "         -5.75825237e-02,  1.21057712e-01,  1.15992293e-01,\n",
       "          1.93672881e-01, -4.19905663e-01,  7.31102228e-02,\n",
       "          3.58518995e-02],\n",
       "        [-3.60545963e-01, -7.69359887e-01, -4.21019256e-01,\n",
       "          5.24465978e-01,  1.96243823e-01,  5.86835384e-01,\n",
       "         -5.30773222e-01, -3.97473633e-01, -1.03689969e+00,\n",
       "          3.61125231e-01],\n",
       "        [ 3.17961246e-01,  1.94184989e-01,  9.95440856e-02,\n",
       "         -1.10064691e-03, -1.04888368e+00,  1.36378154e-01,\n",
       "          2.60291070e-01, -2.17537358e-01, -2.69043222e-02,\n",
       "         -3.49147141e-01],\n",
       "        [-3.30806077e-01, -3.02985787e-01, -4.16437984e-01,\n",
       "          3.04001391e-01, -9.99096334e-01,  5.94640493e-01,\n",
       "          2.16454029e-01,  5.44607401e-01, -5.83420545e-02,\n",
       "         -3.03391159e-01],\n",
       "        [-6.51048899e-01,  3.47812384e-01, -1.45138185e-02,\n",
       "          5.24451911e-01,  2.85948932e-01, -9.03670847e-01,\n",
       "          1.54579163e-01, -2.07483187e-01,  5.37543595e-02,\n",
       "         -2.03791037e-01],\n",
       "        [ 6.95763752e-02,  2.37639531e-01,  2.32379869e-01,\n",
       "         -6.55871451e-01,  1.20377325e-01, -5.62104344e-01,\n",
       "         -1.43642187e-01,  2.30491370e-01, -2.31042907e-01,\n",
       "          5.20898625e-02],\n",
       "        [-5.06145172e-02,  3.46027136e-01, -2.87056342e-02,\n",
       "          4.38544005e-01,  5.12360811e-01,  2.42885992e-01,\n",
       "         -2.14953516e-02,  3.78761321e-01, -6.82847381e-01,\n",
       "         -7.51016557e-01],\n",
       "        [-1.06248111e-01, -1.94015950e-01, -1.70759797e-01,\n",
       "          1.28322527e-01, -1.31595820e-01, -8.46082568e-02,\n",
       "         -1.07202999e-01,  6.04494847e-02, -2.31037691e-01,\n",
       "         -1.23209737e-01],\n",
       "        [-5.34678042e-01,  1.15522347e-01,  6.48947880e-02,\n",
       "         -3.86164546e-01,  4.07549232e-01,  2.31923014e-01,\n",
       "         -1.86713979e-01,  3.89895827e-01, -2.78728306e-01,\n",
       "          3.99555080e-02],\n",
       "        [ 1.96849436e-01, -2.21314818e-01,  1.06563009e-01,\n",
       "          8.13885480e-02,  1.82062060e-01, -1.07197039e-01,\n",
       "          1.99249864e-01, -1.54307976e-01,  2.47458607e-01,\n",
       "         -1.15342051e-01],\n",
       "        [-5.85477710e-01,  1.06149264e-01,  2.61356503e-01,\n",
       "         -3.58182311e-01,  7.83100128e-02, -4.16864455e-02,\n",
       "          1.76894432e-03,  1.43582389e-01,  1.95738152e-01,\n",
       "          2.06740648e-02],\n",
       "        [-3.58168453e-01,  1.23032033e-01, -3.31306905e-01,\n",
       "          4.84661192e-01, -2.02427998e-01, -9.02934015e-01,\n",
       "          7.19322860e-01,  2.17304632e-01, -3.46408695e-01,\n",
       "          2.56263111e-02],\n",
       "        [ 5.88296890e-01,  3.37250113e-01,  4.11070734e-01,\n",
       "         -2.06420243e-01, -3.08554262e-01, -3.96715514e-02,\n",
       "         -4.40842956e-02,  1.50770769e-01, -1.34733343e+00,\n",
       "          1.26133829e-01],\n",
       "        [ 4.70268399e-01, -5.62327206e-01,  1.54351950e-01,\n",
       "          1.68761238e-01, -5.55643320e-01, -5.11796057e-01,\n",
       "          1.79653078e-01,  1.22913659e-01, -3.46956961e-02,\n",
       "         -1.84662238e-01],\n",
       "        [-4.81631279e-01,  1.40530933e-02, -6.58806026e-01,\n",
       "         -2.79357703e-03,  2.09426478e-01,  2.93996364e-01,\n",
       "         -1.31376773e-01, -6.22234009e-02,  4.84447367e-02,\n",
       "         -4.64305095e-02],\n",
       "        [ 1.40673652e-01,  1.28714845e-01,  3.44743431e-01,\n",
       "          8.78634676e-02, -9.02709305e-01, -1.30080223e-01,\n",
       "         -1.75138190e-01, -4.06244814e-01, -2.79880781e-02,\n",
       "          3.87963206e-01],\n",
       "        [ 2.21246839e-01, -4.88105565e-01, -2.53272913e-02,\n",
       "         -1.42408699e-01, -1.16853140e-01, -1.32699788e-01,\n",
       "          2.02021822e-01, -5.96664369e-01,  6.25176877e-02,\n",
       "         -1.53910130e-01],\n",
       "        [-2.83097588e-02,  2.27146983e-01, -1.85171470e-01,\n",
       "         -8.26379843e-03,  4.69434202e-01, -5.92125058e-01,\n",
       "         -4.43059094e-02,  3.81902218e-01,  2.11855136e-02,\n",
       "         -3.96698475e-01],\n",
       "        [ 8.51674899e-02,  1.52201191e-01,  3.20108160e-02,\n",
       "          1.77036732e-01, -7.20047414e-01,  6.60190657e-02,\n",
       "          1.97995201e-01, -4.06175405e-01,  1.82357848e-01,\n",
       "         -3.28388631e-01],\n",
       "        [ 4.05618131e-01,  1.95379540e-01,  3.04818571e-01,\n",
       "         -4.84353781e-01, -7.01419860e-02, -7.98622370e-01,\n",
       "         -1.06245585e-01, -9.63057652e-02,  1.46515235e-01,\n",
       "         -9.77741182e-02],\n",
       "        [-1.15210211e+00,  4.33364630e-01, -5.13497353e-01,\n",
       "          2.01360315e-01,  5.93212545e-01,  1.62282571e-01,\n",
       "         -1.20761955e+00, -4.17469978e-01, -6.95122421e-01,\n",
       "          3.72768193e-01],\n",
       "        [-6.04686560e-03,  8.23101401e-01, -6.90119937e-02,\n",
       "         -5.48900485e-01,  2.23038629e-01,  3.31597269e-01,\n",
       "         -3.92072052e-01, -4.89762984e-02, -9.28038538e-01,\n",
       "         -2.26484388e-01],\n",
       "        [-3.26675683e-01,  2.94060647e-01,  1.03400864e-01,\n",
       "          4.03720826e-01,  5.12044251e-01, -8.81719351e-01,\n",
       "          4.00665492e-01,  2.33145654e-02, -1.85015932e-01,\n",
       "         -5.75183690e-01],\n",
       "        [ 5.34533970e-02, -3.39690208e-01, -2.22613081e-01,\n",
       "          1.02797262e-01, -1.15452245e-01,  6.44878671e-02,\n",
       "         -3.46030951e-01,  1.01026736e-01,  1.75824106e-01,\n",
       "          1.88589513e-01],\n",
       "        [-5.78269541e-01, -5.47923565e-01,  6.39274120e-02,\n",
       "          4.67271984e-01,  2.11429417e-01,  2.59357579e-02,\n",
       "         -1.13641894e+00,  2.24976063e-01, -1.56303152e-01,\n",
       "          3.03235561e-01],\n",
       "        [-7.59410933e-02, -1.06200062e-01, -8.51676241e-02,\n",
       "          1.62722051e-01,  1.66804537e-01,  1.53814301e-01,\n",
       "          3.19681279e-02,  1.41059354e-01,  3.07323813e-01,\n",
       "         -7.44999424e-02],\n",
       "        [-5.70265114e-01, -2.19228536e-01,  3.42027217e-01,\n",
       "          4.72889960e-01, -8.81546080e-01, -1.79070324e-01,\n",
       "         -2.90951639e-01,  3.74569237e-01, -3.87008727e-01,\n",
       "         -8.41225460e-02],\n",
       "        [ 1.93339586e-01, -1.04279645e-01,  2.16488704e-01,\n",
       "          3.29045206e-02,  2.46200845e-01, -2.92878032e-01,\n",
       "          9.71942469e-02, -5.47736108e-01, -7.11939335e-01,\n",
       "          4.89005260e-02],\n",
       "        [ 6.58708140e-02,  1.03587918e-02, -6.66465759e-01,\n",
       "         -3.36386710e-01, -8.59148428e-02,  1.88326761e-01,\n",
       "          1.66685447e-01,  1.17762476e-01, -2.42971599e-01,\n",
       "          7.71853104e-02],\n",
       "        [-2.66227812e-01,  1.68275321e-03, -2.06785724e-01,\n",
       "          3.27559486e-02,  8.64787623e-02, -2.30911970e-01,\n",
       "          1.37813374e-01,  5.90574462e-03,  4.48278412e-02,\n",
       "          3.73584731e-03],\n",
       "        [ 1.93688378e-03,  6.09779596e-01,  1.95674598e-01,\n",
       "         -3.59672643e-02,  4.87323076e-01,  4.08881485e-01,\n",
       "         -5.30118048e-01, -4.18348074e-01, -8.82174373e-01,\n",
       "         -9.10869956e-01],\n",
       "        [-7.62453794e-01,  1.28192037e-01,  4.47656661e-01,\n",
       "          5.32811642e-01, -6.57028079e-01, -2.09634349e-01,\n",
       "         -1.17536438e+00,  2.90113240e-01, -5.10027170e-01,\n",
       "         -8.58587980e-01],\n",
       "        [ 1.13046221e-01, -1.11296177e-01,  2.19425783e-02,\n",
       "         -9.25664231e-02,  8.62848237e-02,  6.38808450e-03,\n",
       "         -1.06485479e-01, -3.63293946e-01,  1.10902503e-01,\n",
       "         -1.24749914e-01],\n",
       "        [ 3.00923198e-01,  1.07528344e-01, -9.60103333e-01,\n",
       "         -4.14380804e-02, -6.43461337e-03, -5.42838871e-01,\n",
       "         -3.81718069e-01,  1.36502191e-01, -2.41240636e-01,\n",
       "          3.96680534e-01],\n",
       "        [-1.79578856e-01, -6.93006277e-01,  3.01153690e-01,\n",
       "         -1.00231290e-01, -2.29215756e-01,  3.31050426e-01,\n",
       "          5.01968145e-01, -1.32400289e-01,  1.60099387e-01,\n",
       "         -3.05000901e-01],\n",
       "        [-2.42612541e-01,  1.15342684e-01, -2.34115496e-01,\n",
       "         -4.42320466e-01, -4.36137408e-01,  1.19647048e-01,\n",
       "          3.27117026e-01, -6.45348251e-01,  1.97606876e-01,\n",
       "          6.17255032e-01],\n",
       "        [-7.60649323e-01,  1.80961967e-01, -1.45058222e-02,\n",
       "          1.42525628e-01,  1.76189527e-01, -3.21871728e-01,\n",
       "         -6.36590123e-01,  1.71906829e-01,  1.81715980e-01,\n",
       "          7.28551969e-02],\n",
       "        [ 2.31883198e-01, -2.16805220e-01, -6.95078298e-02,\n",
       "          2.29273722e-01, -6.33153319e-01, -1.35354877e-01,\n",
       "         -1.25829265e-01,  2.15187535e-01, -3.21951717e-01,\n",
       "          7.61040151e-02],\n",
       "        [ 1.80727750e-01,  6.96063757e-01,  5.20318985e-01,\n",
       "         -1.38006613e-01, -6.41018808e-01, -1.13576150e+00,\n",
       "         -1.83759585e-01,  2.77860165e-01, -4.94219542e-01,\n",
       "         -9.53530222e-02],\n",
       "        [ 1.72115818e-01,  1.67375296e-01,  2.71127462e-01,\n",
       "          1.13219060e-01, -1.61734998e-01, -2.60597289e-01,\n",
       "          1.75405040e-01,  2.32417464e-01,  2.99313486e-01,\n",
       "         -9.41751719e-01],\n",
       "        [ 8.70757625e-02, -3.70656639e-01, -8.11637416e-02,\n",
       "          2.25110546e-01, -2.16580331e-01,  1.40292987e-01,\n",
       "         -4.89766806e-01,  5.79965487e-02,  3.06805465e-02,\n",
       "         -5.53179607e-02],\n",
       "        [ 1.22225441e-01, -6.48682490e-02, -8.89835238e-01,\n",
       "         -1.35278806e-01, -2.25597069e-01,  4.93368596e-01,\n",
       "          3.99573535e-01,  3.51569921e-01, -7.35668764e-02,\n",
       "         -2.97105849e-01],\n",
       "        [ 2.88634568e-01, -4.97848421e-01,  1.81957290e-01,\n",
       "         -1.28042355e-01,  1.39089927e-01, -1.49422452e-01,\n",
       "          9.08654779e-02,  1.59412965e-01, -7.32932806e-01,\n",
       "          1.91898420e-01],\n",
       "        [-2.46486396e-01, -1.80476218e-01, -1.29873306e-01,\n",
       "          1.73214957e-01, -4.89096716e-03,  1.29491210e-01,\n",
       "         -6.01001441e-01, -6.97334185e-02,  1.28843620e-01,\n",
       "          8.16201195e-02],\n",
       "        [-6.51479661e-01,  1.67153612e-01,  9.05511230e-02,\n",
       "         -2.39745438e-01,  2.24723622e-01, -9.59326848e-02,\n",
       "          2.85295963e-01, -5.09304702e-01,  1.85683176e-01,\n",
       "          2.38169968e-01],\n",
       "        [-3.57451320e-01, -1.04238920e-01,  1.35707051e-01,\n",
       "          2.99942136e-01,  1.94866955e-02,  2.49849603e-01,\n",
       "         -5.36308847e-02, -2.39556089e-01,  2.32381567e-01,\n",
       "         -3.29297900e-01],\n",
       "        [-1.96330696e-01,  3.19397032e-01, -8.79928172e-01,\n",
       "         -5.90799570e-01,  1.80509895e-01,  7.02476799e-01,\n",
       "          3.22819471e-01,  6.78709000e-02, -3.93617213e-01,\n",
       "          1.94909096e-01],\n",
       "        [-3.22316796e-01,  3.84427942e-02, -2.91952670e-01,\n",
       "          1.01041570e-01,  1.34250037e-02,  1.80144403e-02,\n",
       "         -7.08552301e-01,  1.76441148e-02,  1.14775598e-01,\n",
       "          1.48751795e-01],\n",
       "        [-1.77844241e-01, -1.55275211e-01, -2.77859241e-01,\n",
       "         -2.13207364e-01,  1.92190066e-01, -5.58988675e-02,\n",
       "         -1.07847536e-02,  5.46283014e-02,  1.11055516e-01,\n",
       "          5.53350821e-02],\n",
       "        [-1.24068722e-01, -2.78021321e-02,  3.53394717e-01,\n",
       "         -2.60216296e-01,  1.21578999e-01,  3.01045269e-01,\n",
       "          3.05725247e-01,  6.42255992e-02,  4.22265857e-01,\n",
       "         -5.82550406e-01],\n",
       "        [ 6.72865883e-02, -1.33661300e-01,  1.92316785e-01,\n",
       "         -7.61395693e-02, -7.61923194e-02,  1.02475025e-02,\n",
       "         -2.94277459e-01, -1.09934956e-01,  2.02402443e-01,\n",
       "          9.79921520e-02],\n",
       "        [ 5.18177971e-02, -4.09380138e-01, -5.13388356e-03,\n",
       "         -1.57179385e-01, -3.66855264e-02,  2.01665863e-01,\n",
       "         -2.67429110e-02, -3.11212093e-01, -2.38909014e-02,\n",
       "          1.13532074e-01],\n",
       "        [-1.35521973e-02, -2.41840214e-01, -4.44501899e-02,\n",
       "          6.71335533e-02, -3.84025753e-01,  2.57528096e-01,\n",
       "         -6.65372238e-02, -9.29380000e-01,  2.94537157e-01,\n",
       "         -2.14387208e-01],\n",
       "        [ 7.18013048e-02, -2.62334526e-01, -3.82473916e-01,\n",
       "         -6.58241808e-01,  2.55176365e-01,  5.45633100e-02,\n",
       "          2.48475537e-01, -2.85337806e-01,  2.02317566e-01,\n",
       "         -5.85502446e-01],\n",
       "        [-2.41825044e-01, -1.24948502e-01,  2.06418365e-01,\n",
       "         -3.65018219e-01,  1.85107321e-01, -6.71133161e-01,\n",
       "          4.05105919e-01,  1.39148265e-01,  4.63062793e-01,\n",
       "         -2.42548525e-01],\n",
       "        [ 4.52136882e-02, -1.13767430e-01,  3.04374844e-01,\n",
       "          1.92754567e-01, -6.84381187e-01,  2.38594741e-01,\n",
       "         -3.63860846e-01,  2.24128991e-01, -1.07716158e-01,\n",
       "         -3.54958177e-01],\n",
       "        [ 1.44708492e-02,  4.00108874e-01,  5.49900770e-01,\n",
       "         -6.55661762e-01, -7.15510324e-02, -3.83700639e-01,\n",
       "          4.89259437e-02, -6.30545974e-01, -2.15469852e-01,\n",
       "         -3.80780935e-01],\n",
       "        [-9.06647742e-01, -4.61909562e-01, -2.14837983e-01,\n",
       "          2.56960273e-01, -1.53919188e-02,  2.79297411e-01,\n",
       "         -7.15066016e-01, -4.35388416e-01,  1.75236657e-01,\n",
       "          8.35925862e-02],\n",
       "        [ 1.24260619e-01, -4.10440296e-01, -1.35780931e-01,\n",
       "         -1.08142525e-01,  7.73022175e-02,  9.08789858e-02,\n",
       "          1.60684898e-01, -1.79821998e-01, -1.68005023e-02,\n",
       "         -1.64037850e-03],\n",
       "        [ 2.45126382e-01, -5.19431651e-01,  1.76341102e-01,\n",
       "         -2.80284911e-01,  1.69500396e-01, -1.23512365e-01,\n",
       "         -1.03665575e-01, -2.92496502e-01,  2.67704338e-01,\n",
       "          1.36530086e-01],\n",
       "        [-3.09448093e-01,  2.75527149e-01, -7.41098002e-02,\n",
       "         -1.38320312e-01, -1.03823316e+00,  1.65860936e-01,\n",
       "          2.40232691e-01, -3.83996725e-01, -1.44365922e-01,\n",
       "         -4.06849474e-01],\n",
       "        [-5.81409335e-01, -7.27681220e-01,  1.77736551e-01,\n",
       "          2.14410633e-01,  2.08631217e-01,  2.31411561e-01,\n",
       "          1.13993198e-01, -4.44228739e-01,  1.18550308e-01,\n",
       "          3.54481488e-01],\n",
       "        [-4.73434150e-01,  4.46665019e-01,  5.24649173e-02,\n",
       "         -2.92614907e-01,  9.21359211e-02, -6.69053137e-01,\n",
       "          3.47245187e-01,  2.22046539e-01,  1.55591309e-01,\n",
       "         -7.30477870e-01],\n",
       "        [ 1.48423001e-01,  1.85187608e-01,  2.29690179e-01,\n",
       "          2.74190605e-01,  4.01493281e-01, -6.68305382e-02,\n",
       "         -2.93127328e-01, -6.37617648e-01,  1.03633536e-03,\n",
       "         -3.69493335e-01],\n",
       "        [ 2.43217513e-01, -2.13126600e-01,  2.37977639e-01,\n",
       "          1.35131553e-01, -1.42464519e+00, -1.65291205e-01,\n",
       "         -6.29958928e-01,  4.32961315e-01,  3.94793488e-02,\n",
       "          1.49257064e-01]], dtype=float32),\n",
       " array([-0.07849899, -0.2199892 , -0.06641884, -0.21707958,  0.19486232,\n",
       "         0.15191413, -0.09061568, -0.10080626,  0.27524623,  0.02278767],\n",
       "       dtype=float32)]"
      ]
     },
     "execution_count": 35,
     "metadata": {},
     "output_type": "execute_result"
    }
   ],
   "source": [
    "model.get_weights()"
   ]
  },
  {
   "cell_type": "code",
   "execution_count": null,
   "metadata": {},
   "outputs": [
    {
     "data": {
      "text/plain": [
       "[PhysicalDevice(name='/physical_device:CPU:0', device_type='CPU')]"
      ]
     },
     "execution_count": 36,
     "metadata": {},
     "output_type": "execute_result"
    }
   ],
   "source": [
    "tf.config.experimental.list_physical_devices()"
   ]
  },
  {
   "cell_type": "code",
   "execution_count": null,
   "metadata": {},
   "outputs": [
    {
     "data": {
      "text/plain": [
       "True"
      ]
     },
     "execution_count": 37,
     "metadata": {},
     "output_type": "execute_result"
    }
   ],
   "source": [
    "tf.test.is_built_with_cuda()"
   ]
  },
  {
   "cell_type": "code",
   "execution_count": null,
   "metadata": {},
   "outputs": [],
   "source": []
  }
 ],
 "metadata": {
  "kernelspec": {
   "display_name": "Python 3.8.10 64-bit",
   "language": "python",
   "name": "python3"
  },
  "language_info": {
   "codemirror_mode": {
    "name": "ipython",
    "version": 3
   },
   "file_extension": ".py",
   "mimetype": "text/x-python",
   "name": "python",
   "nbconvert_exporter": "python",
   "pygments_lexer": "ipython3",
   "version": "3.8.10"
  },
  "orig_nbformat": 4,
  "vscode": {
   "interpreter": {
    "hash": "e7370f93d1d0cde622a1f8e1c04877d8463912d04d973331ad4851f04de6915a"
   }
  }
 },
 "nbformat": 4,
 "nbformat_minor": 2
}
